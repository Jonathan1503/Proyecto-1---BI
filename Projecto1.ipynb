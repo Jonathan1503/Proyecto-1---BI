{
 "cells": [
  {
   "cell_type": "markdown",
   "metadata": {},
   "source": [
    "__ISIS3301 - Inteligencia de Negocios__\n",
    "\n",
    "<div align=\"center\">\n",
    "\n",
    "## **Proyecto 1: Procesamiento de Textos**\n",
    "## **Etapa 1**\n",
    "-------------------------------------\n",
    "\n",
    "</div>\n",
    "\n",
    "*   *Julián Castro - 202020847*\n",
    "*   *Alejandro Gómez - 202015122*\n",
    "*   *Jonathan Rivera -2020228643*\n"
   ]
  },
  {
   "cell_type": "markdown",
   "metadata": {},
   "source": [
    "### **Caso**"
   ]
  },
  {
   "cell_type": "markdown",
   "metadata": {},
   "source": [
    "El Ministerio de Comercio, Industria y Turismo de Colombia, la Asociación Hotelera y\n",
    "Turística de Colombia – COTELCO, cadenas hoteleras de la talla de Hilton, Hoteles Estelar,\n",
    "Holiday Inn y hoteles pequeños ubicados en diferentes municipios de Colombia están\n",
    "interesados en analizar las características de sitios turísticos que los hacen atractivos para\n",
    "turistas locales o de otros países, ya sea para ir a conocerlos o recomendarlos. De igual\n",
    "manera, quieren comparar las características de dichos sitios, con aquellos que han\n",
    "obtenido bajas recomendaciones y que están afectando el número de turistas que llegan a\n",
    "ellos. Adicionalmente, quieren tener un mecanismo para determinar la calificación que\n",
    "tendrá un sitio por parte de los turistas y así, por ejemplo, aplicar estrategias para identificar\n",
    "oportunidades de mejora que permitan aumentar la popularidad de los sitios y fomentar el\n",
    "turismo.\n",
    "Esos actores de turismo prepararon dos conjuntos de datos con reseñas de sitios turísticos.\n",
    "Cada reseña tiene una calificación según el sentimiento que tuvo el turista al visitarlo. Estos\n",
    "actores quieren lograr un análisis independiente de los conjuntos de datos y al final del\n",
    "proyecto discutir sobre los grupos de científicos de datos e ingenieros de datos que\n",
    "acompañarán el desarrollo real de este proyecto."
   ]
  },
  {
   "cell_type": "markdown",
   "metadata": {},
   "source": [
    "### **Objetivos**"
   ]
  },
  {
   "cell_type": "markdown",
   "metadata": {},
   "source": [
    "Plantear un modelo de prediccion de calificaiciones de reseñas, basado en el procesamiento de textos, con un algoritmo que identifique la relacion semantica entre palabras y las calificaciones numericas"
   ]
  },
  {
   "cell_type": "code",
   "execution_count": 42,
   "metadata": {},
   "outputs": [
    {
     "name": "stdout",
     "output_type": "stream",
     "text": [
      "Collecting es-core-news-md==3.7.0\n",
      "  Downloading https://github.com/explosion/spacy-models/releases/download/es_core_news_md-3.7.0/es_core_news_md-3.7.0-py3-none-any.whl (42.3 MB)\n",
      "     ---------------------------------------- 0.0/42.3 MB ? eta -:--:--\n",
      "     ---------------------------------------- 0.4/42.3 MB 11.2 MB/s eta 0:00:04\n",
      "      --------------------------------------- 0.9/42.3 MB 11.9 MB/s eta 0:00:04\n",
      "     - -------------------------------------- 1.5/42.3 MB 12.0 MB/s eta 0:00:04\n",
      "     - -------------------------------------- 2.1/42.3 MB 12.2 MB/s eta 0:00:04\n",
      "     -- ------------------------------------- 2.5/42.3 MB 12.4 MB/s eta 0:00:04\n",
      "     --- ------------------------------------ 3.3/42.3 MB 12.2 MB/s eta 0:00:04\n",
      "     --- ------------------------------------ 4.0/42.3 MB 12.7 MB/s eta 0:00:04\n",
      "     ---- ----------------------------------- 4.8/42.3 MB 13.4 MB/s eta 0:00:03\n",
      "     ----- ---------------------------------- 5.6/42.3 MB 13.9 MB/s eta 0:00:03\n",
      "     ----- ---------------------------------- 6.3/42.3 MB 14.0 MB/s eta 0:00:03\n",
      "     ------ --------------------------------- 7.0/42.3 MB 14.0 MB/s eta 0:00:03\n",
      "     ------- -------------------------------- 7.4/42.3 MB 13.6 MB/s eta 0:00:03\n",
      "     ------- -------------------------------- 7.8/42.3 MB 13.6 MB/s eta 0:00:03\n",
      "     ------- -------------------------------- 8.2/42.3 MB 13.1 MB/s eta 0:00:03\n",
      "     -------- ------------------------------- 8.7/42.3 MB 13.0 MB/s eta 0:00:03\n",
      "     -------- ------------------------------- 9.4/42.3 MB 13.1 MB/s eta 0:00:03\n",
      "     --------- ------------------------------ 9.6/42.3 MB 12.6 MB/s eta 0:00:03\n",
      "     --------- ----------------------------- 10.4/42.3 MB 12.6 MB/s eta 0:00:03\n",
      "     ---------- ---------------------------- 11.1/42.3 MB 13.1 MB/s eta 0:00:03\n",
      "     ---------- ---------------------------- 11.7/42.3 MB 13.1 MB/s eta 0:00:03\n",
      "     ----------- --------------------------- 12.7/42.3 MB 13.6 MB/s eta 0:00:03\n",
      "     ------------ -------------------------- 13.2/42.3 MB 13.4 MB/s eta 0:00:03\n",
      "     ------------ -------------------------- 13.7/42.3 MB 13.6 MB/s eta 0:00:03\n",
      "     ------------- ------------------------- 14.4/42.3 MB 13.1 MB/s eta 0:00:03\n",
      "     ------------- ------------------------- 15.2/42.3 MB 13.1 MB/s eta 0:00:03\n",
      "     -------------- ------------------------ 15.8/42.3 MB 13.4 MB/s eta 0:00:02\n",
      "     --------------- ----------------------- 16.6/42.3 MB 13.4 MB/s eta 0:00:02\n",
      "     --------------- ----------------------- 17.2/42.3 MB 12.8 MB/s eta 0:00:02\n",
      "     ---------------- ---------------------- 17.6/42.3 MB 12.8 MB/s eta 0:00:02\n",
      "     ----------------- --------------------- 18.5/42.3 MB 13.9 MB/s eta 0:00:02\n",
      "     ----------------- --------------------- 18.9/42.3 MB 13.6 MB/s eta 0:00:02\n",
      "     ------------------ -------------------- 19.8/42.3 MB 14.6 MB/s eta 0:00:02\n",
      "     ------------------- ------------------- 20.7/42.3 MB 15.2 MB/s eta 0:00:02\n",
      "     ------------------- ------------------- 21.0/42.3 MB 14.6 MB/s eta 0:00:02\n",
      "     ------------------- ------------------- 21.2/42.3 MB 13.9 MB/s eta 0:00:02\n",
      "     ------------------- ------------------- 21.4/42.3 MB 13.4 MB/s eta 0:00:02\n",
      "     -------------------- ------------------ 21.7/42.3 MB 13.1 MB/s eta 0:00:02\n",
      "     -------------------- ------------------ 22.2/42.3 MB 12.6 MB/s eta 0:00:02\n",
      "     -------------------- ------------------ 22.6/42.3 MB 12.1 MB/s eta 0:00:02\n",
      "     --------------------- ----------------- 23.1/42.3 MB 11.9 MB/s eta 0:00:02\n",
      "     --------------------- ----------------- 23.5/42.3 MB 11.9 MB/s eta 0:00:02\n",
      "     ---------------------- ---------------- 24.0/42.3 MB 11.7 MB/s eta 0:00:02\n",
      "     ---------------------- ---------------- 24.4/42.3 MB 11.5 MB/s eta 0:00:02\n",
      "     ----------------------- --------------- 25.1/42.3 MB 11.5 MB/s eta 0:00:02\n",
      "     ----------------------- --------------- 25.7/42.3 MB 11.3 MB/s eta 0:00:02\n",
      "     ------------------------ -------------- 26.2/42.3 MB 11.1 MB/s eta 0:00:02\n",
      "     ------------------------ -------------- 26.6/42.3 MB 10.9 MB/s eta 0:00:02\n",
      "     ------------------------- ------------- 27.2/42.3 MB 10.9 MB/s eta 0:00:02\n",
      "     ------------------------- ------------- 27.9/42.3 MB 11.1 MB/s eta 0:00:02\n",
      "     -------------------------- ------------ 28.8/42.3 MB 11.3 MB/s eta 0:00:02\n",
      "     --------------------------- ----------- 29.6/42.3 MB 11.3 MB/s eta 0:00:02\n",
      "     --------------------------- ----------- 30.2/42.3 MB 11.1 MB/s eta 0:00:02\n",
      "     ---------------------------- ---------- 30.6/42.3 MB 10.7 MB/s eta 0:00:02\n",
      "     ---------------------------- ---------- 31.2/42.3 MB 10.7 MB/s eta 0:00:02\n",
      "     ----------------------------- --------- 32.0/42.3 MB 12.4 MB/s eta 0:00:01\n",
      "     ------------------------------ -------- 32.6/42.3 MB 12.6 MB/s eta 0:00:01\n",
      "     ------------------------------ -------- 33.3/42.3 MB 13.4 MB/s eta 0:00:01\n",
      "     ------------------------------- ------- 34.2/42.3 MB 13.6 MB/s eta 0:00:01\n",
      "     -------------------------------- ------ 34.8/42.3 MB 14.2 MB/s eta 0:00:01\n",
      "     -------------------------------- ------ 35.4/42.3 MB 13.9 MB/s eta 0:00:01\n",
      "     --------------------------------- ----- 35.9/42.3 MB 13.9 MB/s eta 0:00:01\n",
      "     --------------------------------- ----- 36.4/42.3 MB 13.6 MB/s eta 0:00:01\n",
      "     ---------------------------------- ---- 37.0/42.3 MB 14.2 MB/s eta 0:00:01\n",
      "     ---------------------------------- ---- 37.5/42.3 MB 13.9 MB/s eta 0:00:01\n",
      "     ----------------------------------- --- 38.0/42.3 MB 13.6 MB/s eta 0:00:01\n",
      "     ----------------------------------- --- 38.7/42.3 MB 13.4 MB/s eta 0:00:01\n",
      "     ------------------------------------ -- 39.7/42.3 MB 13.6 MB/s eta 0:00:01\n",
      "     ------------------------------------- - 40.4/42.3 MB 13.6 MB/s eta 0:00:01\n",
      "     ------------------------------------- - 41.0/42.3 MB 14.2 MB/s eta 0:00:01\n",
      "     --------------------------------------  41.7/42.3 MB 13.9 MB/s eta 0:00:01\n",
      "     --------------------------------------  42.3/42.3 MB 13.9 MB/s eta 0:00:01\n",
      "     --------------------------------------  42.3/42.3 MB 13.9 MB/s eta 0:00:01\n",
      "     --------------------------------------- 42.3/42.3 MB 12.3 MB/s eta 0:00:00\n",
      "Requirement already satisfied: spacy<3.8.0,>=3.7.0 in c:\\users\\jhonatan rivera\\appdata\\local\\programs\\python\\python310\\lib\\site-packages (from es-core-news-md==3.7.0) (3.7.4)\n",
      "Requirement already satisfied: spacy-legacy<3.1.0,>=3.0.11 in c:\\users\\jhonatan rivera\\appdata\\local\\programs\\python\\python310\\lib\\site-packages (from spacy<3.8.0,>=3.7.0->es-core-news-md==3.7.0) (3.0.12)\n",
      "Requirement already satisfied: spacy-loggers<2.0.0,>=1.0.0 in c:\\users\\jhonatan rivera\\appdata\\local\\programs\\python\\python310\\lib\\site-packages (from spacy<3.8.0,>=3.7.0->es-core-news-md==3.7.0) (1.0.5)\n",
      "Requirement already satisfied: murmurhash<1.1.0,>=0.28.0 in c:\\users\\jhonatan rivera\\appdata\\local\\programs\\python\\python310\\lib\\site-packages (from spacy<3.8.0,>=3.7.0->es-core-news-md==3.7.0) (1.0.10)\n",
      "Requirement already satisfied: cymem<2.1.0,>=2.0.2 in c:\\users\\jhonatan rivera\\appdata\\local\\programs\\python\\python310\\lib\\site-packages (from spacy<3.8.0,>=3.7.0->es-core-news-md==3.7.0) (2.0.8)\n",
      "Requirement already satisfied: preshed<3.1.0,>=3.0.2 in c:\\users\\jhonatan rivera\\appdata\\local\\programs\\python\\python310\\lib\\site-packages (from spacy<3.8.0,>=3.7.0->es-core-news-md==3.7.0) (3.0.9)\n",
      "Requirement already satisfied: thinc<8.3.0,>=8.2.2 in c:\\users\\jhonatan rivera\\appdata\\local\\programs\\python\\python310\\lib\\site-packages (from spacy<3.8.0,>=3.7.0->es-core-news-md==3.7.0) (8.2.3)\n",
      "Requirement already satisfied: wasabi<1.2.0,>=0.9.1 in c:\\users\\jhonatan rivera\\appdata\\local\\programs\\python\\python310\\lib\\site-packages (from spacy<3.8.0,>=3.7.0->es-core-news-md==3.7.0) (1.1.2)\n",
      "Requirement already satisfied: srsly<3.0.0,>=2.4.3 in c:\\users\\jhonatan rivera\\appdata\\local\\programs\\python\\python310\\lib\\site-packages (from spacy<3.8.0,>=3.7.0->es-core-news-md==3.7.0) (2.4.8)\n",
      "Requirement already satisfied: catalogue<2.1.0,>=2.0.6 in c:\\users\\jhonatan rivera\\appdata\\local\\programs\\python\\python310\\lib\\site-packages (from spacy<3.8.0,>=3.7.0->es-core-news-md==3.7.0) (2.0.10)\n",
      "Requirement already satisfied: weasel<0.4.0,>=0.1.0 in c:\\users\\jhonatan rivera\\appdata\\local\\programs\\python\\python310\\lib\\site-packages (from spacy<3.8.0,>=3.7.0->es-core-news-md==3.7.0) (0.3.4)\n",
      "Requirement already satisfied: typer<0.10.0,>=0.3.0 in c:\\users\\jhonatan rivera\\appdata\\local\\programs\\python\\python310\\lib\\site-packages (from spacy<3.8.0,>=3.7.0->es-core-news-md==3.7.0) (0.9.4)\n",
      "Requirement already satisfied: smart-open<7.0.0,>=5.2.1 in c:\\users\\jhonatan rivera\\appdata\\local\\programs\\python\\python310\\lib\\site-packages (from spacy<3.8.0,>=3.7.0->es-core-news-md==3.7.0) (6.4.0)\n",
      "Requirement already satisfied: tqdm<5.0.0,>=4.38.0 in c:\\users\\jhonatan rivera\\appdata\\local\\programs\\python\\python310\\lib\\site-packages (from spacy<3.8.0,>=3.7.0->es-core-news-md==3.7.0) (4.66.2)\n",
      "Requirement already satisfied: requests<3.0.0,>=2.13.0 in c:\\users\\jhonatan rivera\\appdata\\local\\programs\\python\\python310\\lib\\site-packages (from spacy<3.8.0,>=3.7.0->es-core-news-md==3.7.0) (2.31.0)\n",
      "Requirement already satisfied: pydantic!=1.8,!=1.8.1,<3.0.0,>=1.7.4 in c:\\users\\jhonatan rivera\\appdata\\local\\programs\\python\\python310\\lib\\site-packages (from spacy<3.8.0,>=3.7.0->es-core-news-md==3.7.0) (2.6.4)\n",
      "Requirement already satisfied: jinja2 in c:\\users\\jhonatan rivera\\appdata\\local\\programs\\python\\python310\\lib\\site-packages (from spacy<3.8.0,>=3.7.0->es-core-news-md==3.7.0) (3.1.3)\n",
      "Requirement already satisfied: setuptools in c:\\users\\jhonatan rivera\\appdata\\local\\programs\\python\\python310\\lib\\site-packages (from spacy<3.8.0,>=3.7.0->es-core-news-md==3.7.0) (69.2.0)\n",
      "Requirement already satisfied: packaging>=20.0 in c:\\users\\jhonatan rivera\\appdata\\roaming\\python\\python310\\site-packages (from spacy<3.8.0,>=3.7.0->es-core-news-md==3.7.0) (23.2)\n",
      "Requirement already satisfied: langcodes<4.0.0,>=3.2.0 in c:\\users\\jhonatan rivera\\appdata\\local\\programs\\python\\python310\\lib\\site-packages (from spacy<3.8.0,>=3.7.0->es-core-news-md==3.7.0) (3.3.0)\n",
      "Requirement already satisfied: numpy>=1.19.0 in c:\\users\\jhonatan rivera\\appdata\\local\\programs\\python\\python310\\lib\\site-packages (from spacy<3.8.0,>=3.7.0->es-core-news-md==3.7.0) (1.26.4)\n",
      "Requirement already satisfied: annotated-types>=0.4.0 in c:\\users\\jhonatan rivera\\appdata\\local\\programs\\python\\python310\\lib\\site-packages (from pydantic!=1.8,!=1.8.1,<3.0.0,>=1.7.4->spacy<3.8.0,>=3.7.0->es-core-news-md==3.7.0) (0.6.0)\n",
      "Requirement already satisfied: pydantic-core==2.16.3 in c:\\users\\jhonatan rivera\\appdata\\local\\programs\\python\\python310\\lib\\site-packages (from pydantic!=1.8,!=1.8.1,<3.0.0,>=1.7.4->spacy<3.8.0,>=3.7.0->es-core-news-md==3.7.0) (2.16.3)\n",
      "Requirement already satisfied: typing-extensions>=4.6.1 in c:\\users\\jhonatan rivera\\appdata\\local\\programs\\python\\python310\\lib\\site-packages (from pydantic!=1.8,!=1.8.1,<3.0.0,>=1.7.4->spacy<3.8.0,>=3.7.0->es-core-news-md==3.7.0) (4.10.0)\n",
      "Requirement already satisfied: charset-normalizer<4,>=2 in c:\\users\\jhonatan rivera\\appdata\\local\\programs\\python\\python310\\lib\\site-packages (from requests<3.0.0,>=2.13.0->spacy<3.8.0,>=3.7.0->es-core-news-md==3.7.0) (3.3.2)\n",
      "Requirement already satisfied: idna<4,>=2.5 in c:\\users\\jhonatan rivera\\appdata\\local\\programs\\python\\python310\\lib\\site-packages (from requests<3.0.0,>=2.13.0->spacy<3.8.0,>=3.7.0->es-core-news-md==3.7.0) (3.6)\n",
      "Requirement already satisfied: urllib3<3,>=1.21.1 in c:\\users\\jhonatan rivera\\appdata\\local\\programs\\python\\python310\\lib\\site-packages (from requests<3.0.0,>=2.13.0->spacy<3.8.0,>=3.7.0->es-core-news-md==3.7.0) (2.2.1)\n",
      "Requirement already satisfied: certifi>=2017.4.17 in c:\\users\\jhonatan rivera\\appdata\\local\\programs\\python\\python310\\lib\\site-packages (from requests<3.0.0,>=2.13.0->spacy<3.8.0,>=3.7.0->es-core-news-md==3.7.0) (2024.2.2)\n",
      "Requirement already satisfied: blis<0.8.0,>=0.7.8 in c:\\users\\jhonatan rivera\\appdata\\local\\programs\\python\\python310\\lib\\site-packages (from thinc<8.3.0,>=8.2.2->spacy<3.8.0,>=3.7.0->es-core-news-md==3.7.0) (0.7.11)\n",
      "Requirement already satisfied: confection<1.0.0,>=0.0.1 in c:\\users\\jhonatan rivera\\appdata\\local\\programs\\python\\python310\\lib\\site-packages (from thinc<8.3.0,>=8.2.2->spacy<3.8.0,>=3.7.0->es-core-news-md==3.7.0) (0.1.4)\n",
      "Requirement already satisfied: colorama in c:\\users\\jhonatan rivera\\appdata\\roaming\\python\\python310\\site-packages (from tqdm<5.0.0,>=4.38.0->spacy<3.8.0,>=3.7.0->es-core-news-md==3.7.0) (0.4.6)\n",
      "Requirement already satisfied: click<9.0.0,>=7.1.1 in c:\\users\\jhonatan rivera\\appdata\\local\\programs\\python\\python310\\lib\\site-packages (from typer<0.10.0,>=0.3.0->spacy<3.8.0,>=3.7.0->es-core-news-md==3.7.0) (8.1.7)\n",
      "Requirement already satisfied: cloudpathlib<0.17.0,>=0.7.0 in c:\\users\\jhonatan rivera\\appdata\\local\\programs\\python\\python310\\lib\\site-packages (from weasel<0.4.0,>=0.1.0->spacy<3.8.0,>=3.7.0->es-core-news-md==3.7.0) (0.16.0)\n",
      "Requirement already satisfied: MarkupSafe>=2.0 in c:\\users\\jhonatan rivera\\appdata\\local\\programs\\python\\python310\\lib\\site-packages (from jinja2->spacy<3.8.0,>=3.7.0->es-core-news-md==3.7.0) (2.1.5)\n",
      "\u001b[38;5;2m✔ Download and installation successful\u001b[0m\n",
      "You can now load the package via spacy.load('es_core_news_md')\n"
     ]
    }
   ],
   "source": [
    "%pip install nltk\n",
    "%pip install openpyxl\n",
    "%pip install contractions\n",
    "%pip install inflect\n",
    "%pip install spacy\n",
    "%pip install gensim\n",
    "%pip install scikit-optimize\n",
    "!python -m spacy download es_core_news_md\n",
    "%pip install inflect\n",
    "%pip install scikit-plot\n",
    "%pip install spacy-language-detection\n",
    "%pip install -U pip setuptools wheel\n",
    "%pip install -U spacy\n",
    "! python -m spacy download en_core_web_sm\n",
    "! pip install langdetect\n",
    "%pip install num2words"
   ]
  },
  {
   "cell_type": "markdown",
   "metadata": {},
   "source": [
    "### Instalación de librerias"
   ]
  },
  {
   "cell_type": "markdown",
   "metadata": {},
   "source": [
    "__¿Qué es Punkt?:__\n",
    "\n",
    "Este tokenizador divide un texto en una lista de oraciones mediante el uso de un algoritmo no supervisado para construir un modelo para abreviaturas, colocaciones y palabras que comienzan oraciones."
   ]
  },
  {
   "cell_type": "markdown",
   "metadata": {},
   "source": [
    "__¿Qué son Stopwords?:__\n",
    "\n",
    "En el procesamiento del lenguaje natural (PNL) , las palabras vacías se filtran con frecuencia para mejorar el análisis de texto y la eficiencia computacional. La eliminación de palabras vacías puede mejorar la precisión y relevancia de las tareas de PNL al llamar la atención sobre las palabras más importantes o palabras de contenido.\n",
    "\n",
    "Se cree que ciertas palabras, como “the”, “a”, “an”, o “in”, no son efectivas para comunicar información importante. El objetivo de eliminar palabras que aportan poco o nada a la comprensión del texto es acelerar el procesamiento del texto, aunque la lista de palabras vacías pueda diferir."
   ]
  },
  {
   "cell_type": "markdown",
   "metadata": {},
   "source": [
    "__¿Qué es WordNet?:__\n",
    "\n",
    "Wordnet es un lector de corpus NLTK, una base de datos léxica para inglés. Se puede utilizar para encontrar el significado de palabras, sinónimos o antónimos. Se puede definir como un diccionario de inglés orientado semánticamente."
   ]
  },
  {
   "cell_type": "code",
   "execution_count": 3,
   "metadata": {},
   "outputs": [
    {
     "name": "stderr",
     "output_type": "stream",
     "text": [
      "[nltk_data] Downloading package punkt to C:\\Users\\JHONATAN\n",
      "[nltk_data]     RIVERA\\AppData\\Roaming\\nltk_data...\n",
      "[nltk_data]   Package punkt is already up-to-date!\n",
      "[nltk_data] Downloading package stopwords to C:\\Users\\JHONATAN\n",
      "[nltk_data]     RIVERA\\AppData\\Roaming\\nltk_data...\n",
      "[nltk_data]   Package stopwords is already up-to-date!\n",
      "[nltk_data] Downloading package wordnet to C:\\Users\\JHONATAN\n",
      "[nltk_data]     RIVERA\\AppData\\Roaming\\nltk_data...\n",
      "[nltk_data]   Package wordnet is already up-to-date!\n",
      "[nltk_data] Downloading package averaged_perceptron_tagger to\n",
      "[nltk_data]     C:\\Users\\JHONATAN RIVERA\\AppData\\Roaming\\nltk_data...\n",
      "[nltk_data]   Package averaged_perceptron_tagger is already up-to-\n",
      "[nltk_data]       date!\n"
     ]
    },
    {
     "data": {
      "text/plain": [
       "True"
      ]
     },
     "execution_count": 3,
     "metadata": {},
     "output_type": "execute_result"
    }
   ],
   "source": [
    "import nltk\n",
    "# Punkt permite separar un texto en frases.\n",
    "nltk.download('punkt')\n",
    "nltk.download('stopwords')\n",
    "nltk.download('wordnet')\n",
    "nltk.download(\"averaged_perceptron_tagger\") \n"
   ]
  },
  {
   "cell_type": "code",
   "execution_count": 4,
   "metadata": {},
   "outputs": [
    {
     "name": "stderr",
     "output_type": "stream",
     "text": [
      "\"c:\\Users\\JHONATAN\" no se reconoce como un comando interno o externo,\n",
      "programa o archivo por lotes ejecutable.\n"
     ]
    }
   ],
   "source": [
    "import pandas as pd\n",
    "import numpy as np\n",
    "import sys\n",
    "!{sys.executable} -m pip install pandas-profiling\n",
    "\n",
    "import re, string, unicodedata\n",
    "import contractions\n",
    "import inflect\n",
    "from nltk import word_tokenize, sent_tokenize\n",
    "from nltk.corpus import stopwords\n",
    "from nltk.stem import LancasterStemmer, WordNetLemmatizer\n",
    "\n",
    "from sklearn.model_selection import train_test_split,GridSearchCV\n",
    "from sklearn.feature_extraction.text import TfidfVectorizer, CountVectorizer, HashingVectorizer\n",
    "from sklearn.pipeline import Pipeline, FeatureUnion\n",
    "from sklearn.svm import SVC\n",
    "from sklearn.ensemble import BaggingClassifier, RandomForestClassifier, AdaBoostClassifier\n",
    "from sklearn.naive_bayes import BernoulliNB\n",
    "from sklearn.metrics import classification_report, confusion_matrix\n",
    "from sklearn.metrics import (\n",
    "    ConfusionMatrixDisplay, RocCurveDisplay,\n",
    "    roc_auc_score, precision_score, recall_score, f1_score, accuracy_score\n",
    ")\n",
    "\n",
    "from sklearn.linear_model import LogisticRegression\n",
    "\n",
    "\n",
    "from sklearn.base import BaseEstimator, ClassifierMixin\n",
    "\n",
    "import matplotlib.pyplot as plt"
   ]
  },
  {
   "cell_type": "markdown",
   "metadata": {},
   "source": [
    "--------------------------------\n",
    "# **1. Perfilamiento y Entendimiento de los datos**\n",
    "--------------------------------"
   ]
  },
  {
   "cell_type": "code",
   "execution_count": 5,
   "metadata": {},
   "outputs": [],
   "source": [
    "data=pd.read_csv('tipo2_entrenamiento_estudiantes.csv', sep=',', encoding = 'utf-8')\n",
    "# Asignación a una nueva variable de los datos leidos\n",
    "data_t=data"
   ]
  },
  {
   "cell_type": "code",
   "execution_count": 6,
   "metadata": {},
   "outputs": [
    {
     "data": {
      "text/html": [
       "<div>\n",
       "<style scoped>\n",
       "    .dataframe tbody tr th:only-of-type {\n",
       "        vertical-align: middle;\n",
       "    }\n",
       "\n",
       "    .dataframe tbody tr th {\n",
       "        vertical-align: top;\n",
       "    }\n",
       "\n",
       "    .dataframe thead th {\n",
       "        text-align: right;\n",
       "    }\n",
       "</style>\n",
       "<table border=\"1\" class=\"dataframe\">\n",
       "  <thead>\n",
       "    <tr style=\"text-align: right;\">\n",
       "      <th></th>\n",
       "      <th>Review</th>\n",
       "      <th>Class</th>\n",
       "    </tr>\n",
       "  </thead>\n",
       "  <tbody>\n",
       "    <tr>\n",
       "      <th>0</th>\n",
       "      <td>Muy buena atención y aclaración de dudas por p...</td>\n",
       "      <td>5</td>\n",
       "    </tr>\n",
       "    <tr>\n",
       "      <th>1</th>\n",
       "      <td>Buen hotel si están obligados a estar cerca de...</td>\n",
       "      <td>3</td>\n",
       "    </tr>\n",
       "    <tr>\n",
       "      <th>2</th>\n",
       "      <td>Es un lugar muy lindo para fotografías, visite...</td>\n",
       "      <td>5</td>\n",
       "    </tr>\n",
       "    <tr>\n",
       "      <th>3</th>\n",
       "      <td>Abusados con la factura de alimentos siempre s...</td>\n",
       "      <td>3</td>\n",
       "    </tr>\n",
       "    <tr>\n",
       "      <th>4</th>\n",
       "      <td>Tuvimos un par de personas en el grupo que rea...</td>\n",
       "      <td>3</td>\n",
       "    </tr>\n",
       "  </tbody>\n",
       "</table>\n",
       "</div>"
      ],
      "text/plain": [
       "                                              Review  Class\n",
       "0  Muy buena atención y aclaración de dudas por p...      5\n",
       "1  Buen hotel si están obligados a estar cerca de...      3\n",
       "2  Es un lugar muy lindo para fotografías, visite...      5\n",
       "3  Abusados con la factura de alimentos siempre s...      3\n",
       "4  Tuvimos un par de personas en el grupo que rea...      3"
      ]
     },
     "execution_count": 6,
     "metadata": {},
     "output_type": "execute_result"
    }
   ],
   "source": [
    "data.head()"
   ]
  },
  {
   "cell_type": "markdown",
   "metadata": {},
   "source": [
    "Los datos que tenemos se presentan de una manera muy simple, una columna con las reseñas en lenguaje natural, y otra columna con la calificación numerica de las reseñas"
   ]
  },
  {
   "cell_type": "markdown",
   "metadata": {},
   "source": [
    "--------------------------------\n",
    "### **1.1 Idioma de los datos**\n",
    "--------------------------------"
   ]
  },
  {
   "cell_type": "markdown",
   "metadata": {},
   "source": [
    "Para el planteamiento de un modelo que analice textos, es esencial primero conocer el idioma en el que se encuentran los textos, esto porque tanto para la transformación de los textos (lematización, tokenización) para poder ser procesado por el modelo, como para configurar el modelo, es necesario que se tenga un lenguaje comun para todos los tokens"
   ]
  },
  {
   "cell_type": "code",
   "execution_count": 7,
   "metadata": {},
   "outputs": [
    {
     "data": {
      "text/html": [
       "<div>\n",
       "<style scoped>\n",
       "    .dataframe tbody tr th:only-of-type {\n",
       "        vertical-align: middle;\n",
       "    }\n",
       "\n",
       "    .dataframe tbody tr th {\n",
       "        vertical-align: top;\n",
       "    }\n",
       "\n",
       "    .dataframe thead th {\n",
       "        text-align: right;\n",
       "    }\n",
       "</style>\n",
       "<table border=\"1\" class=\"dataframe\">\n",
       "  <thead>\n",
       "    <tr style=\"text-align: right;\">\n",
       "      <th></th>\n",
       "      <th>Review</th>\n",
       "      <th>Class</th>\n",
       "      <th>idioma</th>\n",
       "    </tr>\n",
       "  </thead>\n",
       "  <tbody>\n",
       "    <tr>\n",
       "      <th>0</th>\n",
       "      <td>Muy buena atención y aclaración de dudas por p...</td>\n",
       "      <td>5</td>\n",
       "      <td>es</td>\n",
       "    </tr>\n",
       "    <tr>\n",
       "      <th>1</th>\n",
       "      <td>Buen hotel si están obligados a estar cerca de...</td>\n",
       "      <td>3</td>\n",
       "      <td>es</td>\n",
       "    </tr>\n",
       "    <tr>\n",
       "      <th>2</th>\n",
       "      <td>Es un lugar muy lindo para fotografías, visite...</td>\n",
       "      <td>5</td>\n",
       "      <td>es</td>\n",
       "    </tr>\n",
       "    <tr>\n",
       "      <th>3</th>\n",
       "      <td>Abusados con la factura de alimentos siempre s...</td>\n",
       "      <td>3</td>\n",
       "      <td>es</td>\n",
       "    </tr>\n",
       "    <tr>\n",
       "      <th>4</th>\n",
       "      <td>Tuvimos un par de personas en el grupo que rea...</td>\n",
       "      <td>3</td>\n",
       "      <td>es</td>\n",
       "    </tr>\n",
       "    <tr>\n",
       "      <th>...</th>\n",
       "      <td>...</td>\n",
       "      <td>...</td>\n",
       "      <td>...</td>\n",
       "    </tr>\n",
       "    <tr>\n",
       "      <th>7870</th>\n",
       "      <td>Me parece buen sistema, agiliza el transporte,...</td>\n",
       "      <td>4</td>\n",
       "      <td>es</td>\n",
       "    </tr>\n",
       "    <tr>\n",
       "      <th>7871</th>\n",
       "      <td>Fue una escapada de un día desde el complejo, ...</td>\n",
       "      <td>4</td>\n",
       "      <td>es</td>\n",
       "    </tr>\n",
       "    <tr>\n",
       "      <th>7872</th>\n",
       "      <td>La Plaza de la Revolución es un lugar emblemát...</td>\n",
       "      <td>3</td>\n",
       "      <td>es</td>\n",
       "    </tr>\n",
       "    <tr>\n",
       "      <th>7873</th>\n",
       "      <td>Es la segunda ocasión que me quedo en los cuar...</td>\n",
       "      <td>1</td>\n",
       "      <td>es</td>\n",
       "    </tr>\n",
       "    <tr>\n",
       "      <th>7874</th>\n",
       "      <td>Llegamos por casualidad a Los Mercaderes, un g...</td>\n",
       "      <td>5</td>\n",
       "      <td>es</td>\n",
       "    </tr>\n",
       "  </tbody>\n",
       "</table>\n",
       "<p>7875 rows × 3 columns</p>\n",
       "</div>"
      ],
      "text/plain": [
       "                                                 Review  Class idioma\n",
       "0     Muy buena atención y aclaración de dudas por p...      5     es\n",
       "1     Buen hotel si están obligados a estar cerca de...      3     es\n",
       "2     Es un lugar muy lindo para fotografías, visite...      5     es\n",
       "3     Abusados con la factura de alimentos siempre s...      3     es\n",
       "4     Tuvimos un par de personas en el grupo que rea...      3     es\n",
       "...                                                 ...    ...    ...\n",
       "7870  Me parece buen sistema, agiliza el transporte,...      4     es\n",
       "7871  Fue una escapada de un día desde el complejo, ...      4     es\n",
       "7872  La Plaza de la Revolución es un lugar emblemát...      3     es\n",
       "7873  Es la segunda ocasión que me quedo en los cuar...      1     es\n",
       "7874  Llegamos por casualidad a Los Mercaderes, un g...      5     es\n",
       "\n",
       "[7875 rows x 3 columns]"
      ]
     },
     "execution_count": 7,
     "metadata": {},
     "output_type": "execute_result"
    }
   ],
   "source": [
    "#Podemos usar la libreria langdetect para conocer el idioma de todos los textos, y podemos aprovecharnos de las funcionalidades \n",
    "# de pandas para facilmente agregar una columna con el idioma del texto para su posterior analizis\n",
    "from langdetect import detect\n",
    "data_t['idioma'] = data_t['Review'].apply(detect)\n",
    "data_t"
   ]
  },
  {
   "cell_type": "code",
   "execution_count": 8,
   "metadata": {},
   "outputs": [
    {
     "data": {
      "text/plain": [
       "idioma\n",
       "es    7868\n",
       "en       3\n",
       "it       2\n",
       "pt       1\n",
       "sq       1\n",
       "Name: count, dtype: int64"
      ]
     },
     "execution_count": 8,
     "metadata": {},
     "output_type": "execute_result"
    }
   ],
   "source": [
    "#Podemos realizar el conteo de los valores en la columna idioma para entender la proporcion linguistica de las reseñas\n",
    "data_t['idioma'].value_counts()"
   ]
  },
  {
   "cell_type": "markdown",
   "metadata": {},
   "source": [
    "Como podemos virtualmente todas las reseñas se encuentran en español, con tan solo 8 reseñas de 7874 perteneciendo a otro idioma.\n",
    "Como mencionabamos previamente, el modelo tiene que plantarse para un solo idioma, por lo que sera necesario remover las reseñas de otros idiomas en la fase de transformación de los datos"
   ]
  },
  {
   "cell_type": "markdown",
   "metadata": {},
   "source": [
    "--------------------------------\n",
    "### **1.2 Entendimiento de las columnas**\n",
    "--------------------------------"
   ]
  },
  {
   "cell_type": "markdown",
   "metadata": {},
   "source": [
    "Entender y analizar la distribución de los datos de los rating puede ayudarnos a contribuir cualitativamente los objetivos de negocios"
   ]
  },
  {
   "cell_type": "code",
   "execution_count": 9,
   "metadata": {},
   "outputs": [
    {
     "data": {
      "text/html": [
       "<div>\n",
       "<style scoped>\n",
       "    .dataframe tbody tr th:only-of-type {\n",
       "        vertical-align: middle;\n",
       "    }\n",
       "\n",
       "    .dataframe tbody tr th {\n",
       "        vertical-align: top;\n",
       "    }\n",
       "\n",
       "    .dataframe thead th {\n",
       "        text-align: right;\n",
       "    }\n",
       "</style>\n",
       "<table border=\"1\" class=\"dataframe\">\n",
       "  <thead>\n",
       "    <tr style=\"text-align: right;\">\n",
       "      <th></th>\n",
       "      <th>Class</th>\n",
       "    </tr>\n",
       "  </thead>\n",
       "  <tbody>\n",
       "    <tr>\n",
       "      <th>count</th>\n",
       "      <td>7875.000000</td>\n",
       "    </tr>\n",
       "    <tr>\n",
       "      <th>mean</th>\n",
       "      <td>3.502603</td>\n",
       "    </tr>\n",
       "    <tr>\n",
       "      <th>std</th>\n",
       "      <td>1.320435</td>\n",
       "    </tr>\n",
       "    <tr>\n",
       "      <th>min</th>\n",
       "      <td>1.000000</td>\n",
       "    </tr>\n",
       "    <tr>\n",
       "      <th>25%</th>\n",
       "      <td>3.000000</td>\n",
       "    </tr>\n",
       "    <tr>\n",
       "      <th>50%</th>\n",
       "      <td>4.000000</td>\n",
       "    </tr>\n",
       "    <tr>\n",
       "      <th>75%</th>\n",
       "      <td>5.000000</td>\n",
       "    </tr>\n",
       "    <tr>\n",
       "      <th>max</th>\n",
       "      <td>5.000000</td>\n",
       "    </tr>\n",
       "  </tbody>\n",
       "</table>\n",
       "</div>"
      ],
      "text/plain": [
       "             Class\n",
       "count  7875.000000\n",
       "mean      3.502603\n",
       "std       1.320435\n",
       "min       1.000000\n",
       "25%       3.000000\n",
       "50%       4.000000\n",
       "75%       5.000000\n",
       "max       5.000000"
      ]
     },
     "execution_count": 9,
     "metadata": {},
     "output_type": "execute_result"
    }
   ],
   "source": [
    "data_t.describe()"
   ]
  },
  {
   "cell_type": "markdown",
   "metadata": {},
   "source": [
    "A partir de las estadisticas de los ratings de las reseñas podemos entender lo siguiente:\n",
    "* No hay ratings invalidos dado que el maximo y el minimo se encuentran en una escala logica y consistente (1-5)\n",
    "* En promedio las reseñas tienen una calificación de 3.5, por lo que puede ser evidencia de que se tiene una distribución apropiada de calificaciones (no estan sesgadas a ningun extremo).\n",
    "* Lo anterior se puede confirmar observando la distribución de los datos en los cuartiles. El 25% de los ratings tienen una calificación maxima de 3, el 50% de 4, y el 75% de 5.\n",
    "* Tenemos 7875 reseñas para la creación del modelo y su posterior validación. "
   ]
  },
  {
   "cell_type": "markdown",
   "metadata": {},
   "source": [
    "Podemos revisar la longitud de las reseñas para entender cuantas palabras pueden llegar a tener influencia en la predicción de un rating"
   ]
  },
  {
   "cell_type": "code",
   "execution_count": 48,
   "metadata": {},
   "outputs": [
    {
     "name": "stdout",
     "output_type": "stream",
     "text": [
      "Longitud máxima de reseña: 1809\n",
      "Longitud mínima de reseña: 2\n",
      "Longitud promedio de reseña: 70.8167619047619\n",
      "Mediana de longitud de reseña: 45.0\n"
     ]
    }
   ],
   "source": [
    "\n",
    "# Calcular la longitud de cada reseña y almacenarla en una nueva columna\n",
    "data['review_length'] = data['Review'].apply(lambda x: len(x.split()))\n",
    "\n",
    "# Obtener la longitud de la reseña más larga\n",
    "max_length = data['review_length'].max()\n",
    "\n",
    "# Obtener la longitud de la reseña más corta\n",
    "min_length = data['review_length'].min()\n",
    "\n",
    "# Obtener la longitud promedio de las reseñas\n",
    "avg_length = data['review_length'].mean()\n",
    "\n",
    "# Obtener la mediana de la longitud de las reseñas\n",
    "median_length = data['review_length'].median()\n",
    "\n",
    "# Imprimir las estadísticas\n",
    "print(\"Longitud máxima de reseña:\", max_length)\n",
    "print(\"Longitud mínima de reseña:\", min_length)\n",
    "print(\"Longitud promedio de reseña:\", avg_length)\n",
    "print(\"Mediana de longitud de reseña:\", median_length)\n"
   ]
  },
  {
   "cell_type": "markdown",
   "metadata": {},
   "source": [
    "### 1.3 Calidad de los datos"
   ]
  },
  {
   "cell_type": "markdown",
   "metadata": {},
   "source": [
    "#### 1.3.1 Completitud"
   ]
  },
  {
   "cell_type": "code",
   "execution_count": 10,
   "metadata": {},
   "outputs": [
    {
     "data": {
      "text/plain": [
       "Review    0.0\n",
       "Class     0.0\n",
       "idioma    0.0\n",
       "dtype: float64"
      ]
     },
     "execution_count": 10,
     "metadata": {},
     "output_type": "execute_result"
    }
   ],
   "source": [
    "((data_t.isnull().sum()/data_t.shape[0])).sort_values(ascending=False)"
   ]
  },
  {
   "cell_type": "markdown",
   "metadata": {},
   "source": [
    "Podemos observar que no tenemos valores nulos en nuestros datos, por lo tanto no sera necesario hacer un analizis de manejo de nulalidad"
   ]
  },
  {
   "cell_type": "markdown",
   "metadata": {},
   "source": [
    "#### 1.3.2 Unicidad"
   ]
  },
  {
   "cell_type": "code",
   "execution_count": 11,
   "metadata": {},
   "outputs": [
    {
     "data": {
      "text/plain": [
       "102"
      ]
     },
     "execution_count": 11,
     "metadata": {},
     "output_type": "execute_result"
    }
   ],
   "source": [
    "data_t.duplicated(keep = False).sum()"
   ]
  },
  {
   "cell_type": "markdown",
   "metadata": {},
   "source": [
    "Podemos observar que tenemos 102 registros duplicados, debido a que los duplicados no añaden valor alguno al modelo, pero si pueden introducir un sesgo (debido a que ciertas palabras pueden asosiarse de manera mas fuerte a un rating de manera erronea), tendremos que eliminarlos en la fase de limpieza de datos."
   ]
  },
  {
   "cell_type": "markdown",
   "metadata": {},
   "source": [
    "#### 1.3.3 Consistencia"
   ]
  },
  {
   "cell_type": "markdown",
   "metadata": {},
   "source": [
    "Como veiamos previamente en el entendimiento de los ratings, estos datos son consistentes dado que todas las calificaciones se encuentran en un rango coherente y logico de (1-5)"
   ]
  },
  {
   "cell_type": "markdown",
   "metadata": {},
   "source": [
    "#### 1.3.4 Validez"
   ]
  },
  {
   "cell_type": "markdown",
   "metadata": {},
   "source": [
    "Debido a que no existe una relación cuantificable entre las columnas, no tiene cabida un analisis de validez de las relaciones entre columnas"
   ]
  },
  {
   "cell_type": "markdown",
   "metadata": {},
   "source": [
    "--------------------------------\n",
    "# **2. Preparación de los Datos**\n",
    "--------------------------------"
   ]
  },
  {
   "cell_type": "markdown",
   "metadata": {},
   "source": [
    "#### 2.1 Limpieza de los datos "
   ]
  },
  {
   "cell_type": "markdown",
   "metadata": {},
   "source": [
    "#### 2.1.1 Quitar duplicados"
   ]
  },
  {
   "cell_type": "code",
   "execution_count": 12,
   "metadata": {},
   "outputs": [
    {
     "data": {
      "text/plain": [
       "0"
      ]
     },
     "execution_count": 12,
     "metadata": {},
     "output_type": "execute_result"
    }
   ],
   "source": [
    "data_t= data_t.drop_duplicates()\n",
    "data_t.duplicated(keep = False).sum()"
   ]
  },
  {
   "cell_type": "markdown",
   "metadata": {},
   "source": [
    "Como mencionamos previamente, tenemos que deshacernos de los duplicados antes de alimentar el modelo con los datos. Observamos que el dataframe queda sin datos duplicados"
   ]
  },
  {
   "cell_type": "markdown",
   "metadata": {},
   "source": [
    "#### 2.1.2 Quitar reseñas en otros idiomas"
   ]
  },
  {
   "cell_type": "code",
   "execution_count": 13,
   "metadata": {},
   "outputs": [
    {
     "data": {
      "text/plain": [
       "idioma\n",
       "es    7795\n",
       "Name: count, dtype: int64"
      ]
     },
     "execution_count": 13,
     "metadata": {},
     "output_type": "execute_result"
    }
   ],
   "source": [
    "data_t= data_t[data_t.idioma == 'es']\n",
    "data_t['idioma'].value_counts()"
   ]
  },
  {
   "cell_type": "markdown",
   "metadata": {},
   "source": [
    "Como se menciono en el entendimiento de datos, nos vamos a quedar con solo las reseñas que esten en español. Podemos observar que el dataframe ahora solo contiene reseñas en español"
   ]
  },
  {
   "cell_type": "markdown",
   "metadata": {},
   "source": [
    "#### 2.1.3 Transformar los datos"
   ]
  },
  {
   "cell_type": "code",
   "execution_count": 14,
   "metadata": {},
   "outputs": [],
   "source": [
    "from num2words import num2words\n",
    "stop_words = stopwords.words(\"spanish\")\n",
    "\n",
    "def remove_non_ascii(words):\n",
    "    \"\"\"Remove non-ASCII characters from list of tokenized words\"\"\"\n",
    "    new_words = []\n",
    "    for word in words:\n",
    "        new_word = unicodedata.normalize('NFKD', word).encode('ascii', 'ignore').decode('utf-8', 'ignore')\n",
    "        new_words.append(new_word)\n",
    "    return new_words\n",
    "\n",
    "def to_lowercase(words):\n",
    "    \"\"\"Convert all characters to lowercase from list of tokenized words\"\"\"\n",
    "    new_words = []\n",
    "    for word in words:\n",
    "        new_words.append(word.lower())\n",
    "    return new_words\n",
    "\n",
    "def remove_punctuation(words):\n",
    "    \"\"\"Remove punctuation from list of tokenized words\"\"\"\n",
    "    new_words = []\n",
    "    for word in words:\n",
    "        new_word = re.sub(r'[^\\w\\s]', '', word)\n",
    "        if new_word != '':\n",
    "            new_words.append(new_word)\n",
    "    return new_words\n",
    "\n",
    "def replace_numbers(words):\n",
    "    \"\"\"Replace all integer occurrences in list of tokenized words with textual representation in Spanish\"\"\"\n",
    "    new_words = []\n",
    "    for word in words:\n",
    "        if word.isdigit():\n",
    "            new_word = num2words(word, lang='es')\n",
    "            new_words.append(new_word)\n",
    "        else:\n",
    "            new_words.append(word)\n",
    "    return new_words\n",
    "\n",
    "def remove_stopwords(words):\n",
    "    stop_words = set(stopwords.words(\"spanish\"))\n",
    "    new_words = [word for word in words if word not in stop_words]\n",
    "    return new_words\n",
    "\n",
    "def preprocessing(words):\n",
    "    words = to_lowercase(words)\n",
    "    words = replace_numbers(words)\n",
    "    words = remove_punctuation(words)\n",
    "    words = remove_non_ascii(words)\n",
    "    words = remove_stopwords(words)\n",
    "    return words\n"
   ]
  },
  {
   "cell_type": "markdown",
   "metadata": {},
   "source": [
    "En este apartado estamos creando codigo para limpiar y preprocesar el texto tokenizado, lo que ayuda a mejorar la calidad de los datos antes de alimentarlos al modelo de predicción de calificaciones. Al eliminar información no relevante y estandarizar el texto, se espera que el modelo pueda aprender patrones más significativos y precisos para hacer predicciones más efectivas. Sin embargo, es necesario tokenizar primero las reviews para poder aplicar la limpieza"
   ]
  },
  {
   "cell_type": "markdown",
   "metadata": {},
   "source": [
    "--------------------------------\n",
    "### **2.2 Tokenización**\n",
    "--------------------------------"
   ]
  },
  {
   "cell_type": "markdown",
   "metadata": {},
   "source": [
    "La tokenización permite dividir frases u oraciones en palabras. Con el fin de desglozar las palabras correctamente para el posterior análisis. Es usual que en tareas de NLP se transformen las contracciones en los textos procesados, sin embargo dado que para la tarea ejecutada el texto se encuentra en español, donde las contracciones no son tan comunes y se utilizan mayoritariamente en 'stopwords' no sera necesario aplicar este paso."
   ]
  },
  {
   "cell_type": "code",
   "execution_count": 15,
   "metadata": {},
   "outputs": [
    {
     "data": {
      "text/html": [
       "<div>\n",
       "<style scoped>\n",
       "    .dataframe tbody tr th:only-of-type {\n",
       "        vertical-align: middle;\n",
       "    }\n",
       "\n",
       "    .dataframe tbody tr th {\n",
       "        vertical-align: top;\n",
       "    }\n",
       "\n",
       "    .dataframe thead th {\n",
       "        text-align: right;\n",
       "    }\n",
       "</style>\n",
       "<table border=\"1\" class=\"dataframe\">\n",
       "  <thead>\n",
       "    <tr style=\"text-align: right;\">\n",
       "      <th></th>\n",
       "      <th>Review</th>\n",
       "      <th>Class</th>\n",
       "      <th>idioma</th>\n",
       "      <th>words</th>\n",
       "    </tr>\n",
       "  </thead>\n",
       "  <tbody>\n",
       "    <tr>\n",
       "      <th>0</th>\n",
       "      <td>Muy buena atención y aclaración de dudas por p...</td>\n",
       "      <td>5</td>\n",
       "      <td>es</td>\n",
       "      <td>[Muy, buena, atención, y, aclaración, de, duda...</td>\n",
       "    </tr>\n",
       "    <tr>\n",
       "      <th>1</th>\n",
       "      <td>Buen hotel si están obligados a estar cerca de...</td>\n",
       "      <td>3</td>\n",
       "      <td>es</td>\n",
       "      <td>[Buen, hotel, si, están, obligados, a, estar, ...</td>\n",
       "    </tr>\n",
       "    <tr>\n",
       "      <th>2</th>\n",
       "      <td>Es un lugar muy lindo para fotografías, visite...</td>\n",
       "      <td>5</td>\n",
       "      <td>es</td>\n",
       "      <td>[Es, un, lugar, muy, lindo, para, fotografías,...</td>\n",
       "    </tr>\n",
       "    <tr>\n",
       "      <th>3</th>\n",
       "      <td>Abusados con la factura de alimentos siempre s...</td>\n",
       "      <td>3</td>\n",
       "      <td>es</td>\n",
       "      <td>[Abusados, con, la, factura, de, alimentos, si...</td>\n",
       "    </tr>\n",
       "    <tr>\n",
       "      <th>4</th>\n",
       "      <td>Tuvimos un par de personas en el grupo que rea...</td>\n",
       "      <td>3</td>\n",
       "      <td>es</td>\n",
       "      <td>[Tuvimos, un, par, de, personas, en, el, grupo...</td>\n",
       "    </tr>\n",
       "  </tbody>\n",
       "</table>\n",
       "</div>"
      ],
      "text/plain": [
       "                                              Review  Class idioma  \\\n",
       "0  Muy buena atención y aclaración de dudas por p...      5     es   \n",
       "1  Buen hotel si están obligados a estar cerca de...      3     es   \n",
       "2  Es un lugar muy lindo para fotografías, visite...      5     es   \n",
       "3  Abusados con la factura de alimentos siempre s...      3     es   \n",
       "4  Tuvimos un par de personas en el grupo que rea...      3     es   \n",
       "\n",
       "                                               words  \n",
       "0  [Muy, buena, atención, y, aclaración, de, duda...  \n",
       "1  [Buen, hotel, si, están, obligados, a, estar, ...  \n",
       "2  [Es, un, lugar, muy, lindo, para, fotografías,...  \n",
       "3  [Abusados, con, la, factura, de, alimentos, si...  \n",
       "4  [Tuvimos, un, par, de, personas, en, el, grupo...  "
      ]
     },
     "execution_count": 15,
     "metadata": {},
     "output_type": "execute_result"
    }
   ],
   "source": [
    "data_t['words'] = data_t['Review'].apply(word_tokenize)\n",
    "data_t.head()"
   ]
  },
  {
   "cell_type": "code",
   "execution_count": 16,
   "metadata": {},
   "outputs": [
    {
     "data": {
      "text/html": [
       "<div>\n",
       "<style scoped>\n",
       "    .dataframe tbody tr th:only-of-type {\n",
       "        vertical-align: middle;\n",
       "    }\n",
       "\n",
       "    .dataframe tbody tr th {\n",
       "        vertical-align: top;\n",
       "    }\n",
       "\n",
       "    .dataframe thead th {\n",
       "        text-align: right;\n",
       "    }\n",
       "</style>\n",
       "<table border=\"1\" class=\"dataframe\">\n",
       "  <thead>\n",
       "    <tr style=\"text-align: right;\">\n",
       "      <th></th>\n",
       "      <th>Review</th>\n",
       "      <th>Class</th>\n",
       "      <th>idioma</th>\n",
       "      <th>words</th>\n",
       "      <th>words1</th>\n",
       "    </tr>\n",
       "  </thead>\n",
       "  <tbody>\n",
       "    <tr>\n",
       "      <th>0</th>\n",
       "      <td>Muy buena atención y aclaración de dudas por p...</td>\n",
       "      <td>5</td>\n",
       "      <td>es</td>\n",
       "      <td>[Muy, buena, atención, y, aclaración, de, duda...</td>\n",
       "      <td>[buena, atencion, aclaracion, dudas, parte, se...</td>\n",
       "    </tr>\n",
       "    <tr>\n",
       "      <th>1</th>\n",
       "      <td>Buen hotel si están obligados a estar cerca de...</td>\n",
       "      <td>3</td>\n",
       "      <td>es</td>\n",
       "      <td>[Buen, hotel, si, están, obligados, a, estar, ...</td>\n",
       "      <td>[buen, hotel, si, estan, obligados, cerca, cen...</td>\n",
       "    </tr>\n",
       "    <tr>\n",
       "      <th>2</th>\n",
       "      <td>Es un lugar muy lindo para fotografías, visite...</td>\n",
       "      <td>5</td>\n",
       "      <td>es</td>\n",
       "      <td>[Es, un, lugar, muy, lindo, para, fotografías,...</td>\n",
       "      <td>[lugar, lindo, fotografias, visiten, selina, m...</td>\n",
       "    </tr>\n",
       "    <tr>\n",
       "      <th>3</th>\n",
       "      <td>Abusados con la factura de alimentos siempre s...</td>\n",
       "      <td>3</td>\n",
       "      <td>es</td>\n",
       "      <td>[Abusados, con, la, factura, de, alimentos, si...</td>\n",
       "      <td>[abusados, factura, alimentos, siempre, echan,...</td>\n",
       "    </tr>\n",
       "    <tr>\n",
       "      <th>4</th>\n",
       "      <td>Tuvimos un par de personas en el grupo que rea...</td>\n",
       "      <td>3</td>\n",
       "      <td>es</td>\n",
       "      <td>[Tuvimos, un, par, de, personas, en, el, grupo...</td>\n",
       "      <td>[par, personas, grupo, realmente, queriamos, c...</td>\n",
       "    </tr>\n",
       "    <tr>\n",
       "      <th>5</th>\n",
       "      <td>Un complejo enorme de fortificaciones frente a...</td>\n",
       "      <td>4</td>\n",
       "      <td>es</td>\n",
       "      <td>[Un, complejo, enorme, de, fortificaciones, fr...</td>\n",
       "      <td>[complejo, enorme, fortificaciones, frente, an...</td>\n",
       "    </tr>\n",
       "    <tr>\n",
       "      <th>6</th>\n",
       "      <td>Acabo de volver de Cuba. La primera semana en ...</td>\n",
       "      <td>2</td>\n",
       "      <td>es</td>\n",
       "      <td>[Acabo, de, volver, de, Cuba, ., La, primera, ...</td>\n",
       "      <td>[acabo, volver, cuba, primera, semana, tryp, h...</td>\n",
       "    </tr>\n",
       "    <tr>\n",
       "      <th>7</th>\n",
       "      <td>Hola, estuve 4 noches 5 días, en este hotel, l...</td>\n",
       "      <td>3</td>\n",
       "      <td>es</td>\n",
       "      <td>[Hola, ,, estuve, 4, noches, 5, días, ,, en, e...</td>\n",
       "      <td>[hola, cuatro, noches, cinco, dias, hotel, lue...</td>\n",
       "    </tr>\n",
       "    <tr>\n",
       "      <th>8</th>\n",
       "      <td>Antes de salir de viaje, escuché opiniones neg...</td>\n",
       "      <td>5</td>\n",
       "      <td>es</td>\n",
       "      <td>[Antes, de, salir, de, viaje, ,, escuché, opin...</td>\n",
       "      <td>[salir, viaje, escuche, opiniones, negativas, ...</td>\n",
       "    </tr>\n",
       "    <tr>\n",
       "      <th>9</th>\n",
       "      <td>Es imposible pasar por Monterrey y no subir. L...</td>\n",
       "      <td>3</td>\n",
       "      <td>es</td>\n",
       "      <td>[Es, imposible, pasar, por, Monterrey, y, no, ...</td>\n",
       "      <td>[imposible, pasar, monterrey, subir, vistas, e...</td>\n",
       "    </tr>\n",
       "  </tbody>\n",
       "</table>\n",
       "</div>"
      ],
      "text/plain": [
       "                                              Review  Class idioma  \\\n",
       "0  Muy buena atención y aclaración de dudas por p...      5     es   \n",
       "1  Buen hotel si están obligados a estar cerca de...      3     es   \n",
       "2  Es un lugar muy lindo para fotografías, visite...      5     es   \n",
       "3  Abusados con la factura de alimentos siempre s...      3     es   \n",
       "4  Tuvimos un par de personas en el grupo que rea...      3     es   \n",
       "5  Un complejo enorme de fortificaciones frente a...      4     es   \n",
       "6  Acabo de volver de Cuba. La primera semana en ...      2     es   \n",
       "7  Hola, estuve 4 noches 5 días, en este hotel, l...      3     es   \n",
       "8  Antes de salir de viaje, escuché opiniones neg...      5     es   \n",
       "9  Es imposible pasar por Monterrey y no subir. L...      3     es   \n",
       "\n",
       "                                               words  \\\n",
       "0  [Muy, buena, atención, y, aclaración, de, duda...   \n",
       "1  [Buen, hotel, si, están, obligados, a, estar, ...   \n",
       "2  [Es, un, lugar, muy, lindo, para, fotografías,...   \n",
       "3  [Abusados, con, la, factura, de, alimentos, si...   \n",
       "4  [Tuvimos, un, par, de, personas, en, el, grupo...   \n",
       "5  [Un, complejo, enorme, de, fortificaciones, fr...   \n",
       "6  [Acabo, de, volver, de, Cuba, ., La, primera, ...   \n",
       "7  [Hola, ,, estuve, 4, noches, 5, días, ,, en, e...   \n",
       "8  [Antes, de, salir, de, viaje, ,, escuché, opin...   \n",
       "9  [Es, imposible, pasar, por, Monterrey, y, no, ...   \n",
       "\n",
       "                                              words1  \n",
       "0  [buena, atencion, aclaracion, dudas, parte, se...  \n",
       "1  [buen, hotel, si, estan, obligados, cerca, cen...  \n",
       "2  [lugar, lindo, fotografias, visiten, selina, m...  \n",
       "3  [abusados, factura, alimentos, siempre, echan,...  \n",
       "4  [par, personas, grupo, realmente, queriamos, c...  \n",
       "5  [complejo, enorme, fortificaciones, frente, an...  \n",
       "6  [acabo, volver, cuba, primera, semana, tryp, h...  \n",
       "7  [hola, cuatro, noches, cinco, dias, hotel, lue...  \n",
       "8  [salir, viaje, escuche, opiniones, negativas, ...  \n",
       "9  [imposible, pasar, monterrey, subir, vistas, e...  "
      ]
     },
     "execution_count": 16,
     "metadata": {},
     "output_type": "execute_result"
    }
   ],
   "source": [
    "data_t['words1']=data_t['words'].apply(preprocessing)\n",
    "data_t.head(10)"
   ]
  },
  {
   "cell_type": "code",
   "execution_count": 17,
   "metadata": {},
   "outputs": [
    {
     "data": {
      "text/plain": [
       "0       [buena, atencion, aclaracion, dudas, parte, se...\n",
       "1       [buen, hotel, si, estan, obligados, cerca, cen...\n",
       "2       [lugar, lindo, fotografias, visiten, selina, m...\n",
       "3       [abusados, factura, alimentos, siempre, echan,...\n",
       "4       [par, personas, grupo, realmente, queriamos, c...\n",
       "                              ...                        \n",
       "7870    [parece, buen, sistema, agiliza, transporte, c...\n",
       "7871    [escapada, dia, complejo, grupo, turistas, hab...\n",
       "7872    [plaza, revolucion, lugar, emblematico, identi...\n",
       "7873    [segunda, ocasion, quedo, cuartos, area, jardi...\n",
       "7874    [llegamos, casualidad, mercaderes, grupo, gran...\n",
       "Name: words1, Length: 7795, dtype: object"
      ]
     },
     "execution_count": 17,
     "metadata": {},
     "output_type": "execute_result"
    }
   ],
   "source": [
    "data_t['words1'].dropna()"
   ]
  },
  {
   "cell_type": "markdown",
   "metadata": {},
   "source": [
    "--------------------------------\n",
    "### **2.3 Normalización**\n",
    "--------------------------------"
   ]
  },
  {
   "cell_type": "code",
   "execution_count": 22,
   "metadata": {},
   "outputs": [],
   "source": [
    "nlp = spacy.load('es_core_news_md')"
   ]
  },
  {
   "cell_type": "code",
   "execution_count": 24,
   "metadata": {},
   "outputs": [
    {
     "data": {
      "text/html": [
       "<div>\n",
       "<style scoped>\n",
       "    .dataframe tbody tr th:only-of-type {\n",
       "        vertical-align: middle;\n",
       "    }\n",
       "\n",
       "    .dataframe tbody tr th {\n",
       "        vertical-align: top;\n",
       "    }\n",
       "\n",
       "    .dataframe thead th {\n",
       "        text-align: right;\n",
       "    }\n",
       "</style>\n",
       "<table border=\"1\" class=\"dataframe\">\n",
       "  <thead>\n",
       "    <tr style=\"text-align: right;\">\n",
       "      <th></th>\n",
       "      <th>Review</th>\n",
       "      <th>Class</th>\n",
       "      <th>idioma</th>\n",
       "      <th>words</th>\n",
       "      <th>words1</th>\n",
       "    </tr>\n",
       "  </thead>\n",
       "  <tbody>\n",
       "    <tr>\n",
       "      <th>0</th>\n",
       "      <td>Muy buena atención y aclaración de dudas por p...</td>\n",
       "      <td>5</td>\n",
       "      <td>es</td>\n",
       "      <td>[Muy, buena, atención, y, aclaración, de, duda...</td>\n",
       "      <td>[buen, atencion, aclar, dud, part, senorit, ve...</td>\n",
       "    </tr>\n",
       "    <tr>\n",
       "      <th>1</th>\n",
       "      <td>Buen hotel si están obligados a estar cerca de...</td>\n",
       "      <td>3</td>\n",
       "      <td>es</td>\n",
       "      <td>[Buen, hotel, si, están, obligados, a, estar, ...</td>\n",
       "      <td>[buen, hotel, si, estan, oblig, cerc, centr, c...</td>\n",
       "    </tr>\n",
       "    <tr>\n",
       "      <th>2</th>\n",
       "      <td>Es un lugar muy lindo para fotografías, visite...</td>\n",
       "      <td>5</td>\n",
       "      <td>es</td>\n",
       "      <td>[Es, un, lugar, muy, lindo, para, fotografías,...</td>\n",
       "      <td>[lug, lind, fotografi, visit, selin, music, vi...</td>\n",
       "    </tr>\n",
       "    <tr>\n",
       "      <th>3</th>\n",
       "      <td>Abusados con la factura de alimentos siempre s...</td>\n",
       "      <td>3</td>\n",
       "      <td>es</td>\n",
       "      <td>[Abusados, con, la, factura, de, alimentos, si...</td>\n",
       "      <td>[abus, factur, aliment, siempr, echan, culp, v...</td>\n",
       "    </tr>\n",
       "    <tr>\n",
       "      <th>4</th>\n",
       "      <td>Tuvimos un par de personas en el grupo que rea...</td>\n",
       "      <td>3</td>\n",
       "      <td>es</td>\n",
       "      <td>[Tuvimos, un, par, de, personas, en, el, grupo...</td>\n",
       "      <td>[par, person, grup, realment, queri, com, cabr...</td>\n",
       "    </tr>\n",
       "  </tbody>\n",
       "</table>\n",
       "</div>"
      ],
      "text/plain": [
       "                                              Review  Class idioma  \\\n",
       "0  Muy buena atención y aclaración de dudas por p...      5     es   \n",
       "1  Buen hotel si están obligados a estar cerca de...      3     es   \n",
       "2  Es un lugar muy lindo para fotografías, visite...      5     es   \n",
       "3  Abusados con la factura de alimentos siempre s...      3     es   \n",
       "4  Tuvimos un par de personas en el grupo que rea...      3     es   \n",
       "\n",
       "                                               words  \\\n",
       "0  [Muy, buena, atención, y, aclaración, de, duda...   \n",
       "1  [Buen, hotel, si, están, obligados, a, estar, ...   \n",
       "2  [Es, un, lugar, muy, lindo, para, fotografías,...   \n",
       "3  [Abusados, con, la, factura, de, alimentos, si...   \n",
       "4  [Tuvimos, un, par, de, personas, en, el, grupo...   \n",
       "\n",
       "                                              words1  \n",
       "0  [buen, atencion, aclar, dud, part, senorit, ve...  \n",
       "1  [buen, hotel, si, estan, oblig, cerc, centr, c...  \n",
       "2  [lug, lind, fotografi, visit, selin, music, vi...  \n",
       "3  [abus, factur, aliment, siempr, echan, culp, v...  \n",
       "4  [par, person, grup, realment, queri, com, cabr...  "
      ]
     },
     "execution_count": 24,
     "metadata": {},
     "output_type": "execute_result"
    }
   ],
   "source": [
    "import spacy\n",
    "from nltk.stem.snowball import SnowballStemmer\n",
    "\n",
    "def stem_words(words):\n",
    "    \"\"\"Stem words in list of tokenized words\"\"\"\n",
    "    stemmer = SnowballStemmer(\"spanish\")\n",
    "    stemmed_words = [stemmer.stem(word) for word in words]\n",
    "    return stemmed_words\n",
    "def lemmatize_verbs(words):\n",
    "    \"\"\"Lemmatize verbs in list of tokenized words\"\"\"\n",
    "    text = \" \".join(words)\n",
    "    doc = nlp(text)\n",
    "    lemas = [token.lemma_ for token in doc]\n",
    "    return lemas\n",
    "def stem_and_lemmatize(words):\n",
    "    stems = stem_words(words)\n",
    "    lemmas = lemmatize_verbs(words)\n",
    "    return stems + lemmas\n",
    "data_t['words1'] = data_t['words1'].apply(stem_and_lemmatize)\n",
    "data_t.head()"
   ]
  },
  {
   "cell_type": "code",
   "execution_count": 25,
   "metadata": {},
   "outputs": [],
   "source": [
    "data_t['words'] = data_t['words1'].apply(lambda x: ' '.join(map(str, x)))"
   ]
  },
  {
   "cell_type": "markdown",
   "metadata": {},
   "source": [
    "--------------------------------\n",
    "## **3. División de los Datos**\n",
    "--------------------------------"
   ]
  },
  {
   "cell_type": "code",
   "execution_count": 26,
   "metadata": {},
   "outputs": [],
   "source": [
    "X_train, X_test, y_train, y_test = train_test_split(data_t[[\"words\"]], data_t[\"Class\"], test_size=0.3, stratify=data_t[\"Class\"], random_state=1)"
   ]
  },
  {
   "cell_type": "markdown",
   "metadata": {},
   "source": [
    "--------------------------------\n",
    "## **4. Modelado y Evaluación**\n",
    "--------------------------------"
   ]
  },
  {
   "cell_type": "markdown",
   "metadata": {},
   "source": [
    "--------------------------------\n",
    "### **4.1. Modelado con Vectorización Bag of Words (BoW)**\n",
    "--------------------------------"
   ]
  },
  {
   "cell_type": "markdown",
   "metadata": {},
   "source": [
    "A partir del dataset que limpiamos, creamos y contamos las palabras. A esto se le conoce como bag of words. Este modelo de representación de texto es muy simple y flexible, y se puede utilizar en una variedad de formas para diferentes tareas de NLP."
   ]
  },
  {
   "cell_type": "code",
   "execution_count": 27,
   "metadata": {},
   "outputs": [],
   "source": [
    "\n",
    "X_train_BoW = X_train.copy()\n",
    "X_test_BoW = X_test.copy()\n",
    "Y_train_BoW = y_train.copy()\n",
    "Y_test_BoW = y_test.copy()\n",
    "\n",
    "\n",
    "bow = CountVectorizer(tokenizer=word_tokenize, stop_words=stop_words, lowercase=True)\n"
   ]
  },
  {
   "cell_type": "code",
   "execution_count": 28,
   "metadata": {},
   "outputs": [
    {
     "data": {
      "text/html": [
       "<div>\n",
       "<style scoped>\n",
       "    .dataframe tbody tr th:only-of-type {\n",
       "        vertical-align: middle;\n",
       "    }\n",
       "\n",
       "    .dataframe tbody tr th {\n",
       "        vertical-align: top;\n",
       "    }\n",
       "\n",
       "    .dataframe thead th {\n",
       "        text-align: right;\n",
       "    }\n",
       "</style>\n",
       "<table border=\"1\" class=\"dataframe\">\n",
       "  <thead>\n",
       "    <tr style=\"text-align: right;\">\n",
       "      <th></th>\n",
       "      <th>words</th>\n",
       "    </tr>\n",
       "  </thead>\n",
       "  <tbody>\n",
       "    <tr>\n",
       "      <th>4286</th>\n",
       "      <td>com buen habit viej necesit mejor tod zon publ...</td>\n",
       "    </tr>\n",
       "    <tr>\n",
       "      <th>6045</th>\n",
       "      <td>famili hotel occidental grand cartagen ser uni...</td>\n",
       "    </tr>\n",
       "    <tr>\n",
       "      <th>2612</th>\n",
       "      <td>mientr haban tres dias larg lug unas cuant vec...</td>\n",
       "    </tr>\n",
       "    <tr>\n",
       "      <th>40</th>\n",
       "      <td>botonesguardi alt discriminatori cad sal entra...</td>\n",
       "    </tr>\n",
       "    <tr>\n",
       "      <th>2992</th>\n",
       "      <td>com buen diferent cualqui mexican content hab ...</td>\n",
       "    </tr>\n",
       "    <tr>\n",
       "      <th>...</th>\n",
       "      <td>...</td>\n",
       "    </tr>\n",
       "    <tr>\n",
       "      <th>5739</th>\n",
       "      <td>accesori suelt par despeg papel tv hd taman im...</td>\n",
       "    </tr>\n",
       "    <tr>\n",
       "      <th>3731</th>\n",
       "      <td>cartagen ciud rumb visit lugar histor play deb...</td>\n",
       "    </tr>\n",
       "    <tr>\n",
       "      <th>4185</th>\n",
       "      <td>impresion palaci barroc rod plaz renov extens ...</td>\n",
       "    </tr>\n",
       "    <tr>\n",
       "      <th>2200</th>\n",
       "      <td>cucarach hong pared tv funcion cambi saban air...</td>\n",
       "    </tr>\n",
       "    <tr>\n",
       "      <th>6041</th>\n",
       "      <td>lug bellisim servici eficient chil nog mejor p...</td>\n",
       "    </tr>\n",
       "  </tbody>\n",
       "</table>\n",
       "<p>5456 rows × 1 columns</p>\n",
       "</div>"
      ],
      "text/plain": [
       "                                                  words\n",
       "4286  com buen habit viej necesit mejor tod zon publ...\n",
       "6045  famili hotel occidental grand cartagen ser uni...\n",
       "2612  mientr haban tres dias larg lug unas cuant vec...\n",
       "40    botonesguardi alt discriminatori cad sal entra...\n",
       "2992  com buen diferent cualqui mexican content hab ...\n",
       "...                                                 ...\n",
       "5739  accesori suelt par despeg papel tv hd taman im...\n",
       "3731  cartagen ciud rumb visit lugar histor play deb...\n",
       "4185  impresion palaci barroc rod plaz renov extens ...\n",
       "2200  cucarach hong pared tv funcion cambi saban air...\n",
       "6041  lug bellisim servici eficient chil nog mejor p...\n",
       "\n",
       "[5456 rows x 1 columns]"
      ]
     },
     "execution_count": 28,
     "metadata": {},
     "output_type": "execute_result"
    }
   ],
   "source": [
    "X_train_BoW "
   ]
  },
  {
   "cell_type": "code",
   "execution_count": 29,
   "metadata": {},
   "outputs": [
    {
     "name": "stderr",
     "output_type": "stream",
     "text": [
      "c:\\Users\\JHONATAN RIVERA\\AppData\\Local\\Programs\\Python\\Python310\\lib\\site-packages\\sklearn\\feature_extraction\\text.py:525: UserWarning: The parameter 'token_pattern' will not be used since 'tokenizer' is not None'\n",
      "  warnings.warn(\n"
     ]
    }
   ],
   "source": [
    "X_bow = bow.fit_transform(X_train_BoW[\"words\"])"
   ]
  },
  {
   "cell_type": "code",
   "execution_count": 30,
   "metadata": {},
   "outputs": [
    {
     "name": "stdout",
     "output_type": "stream",
     "text": [
      "Vocabulary size: 24645\n"
     ]
    }
   ],
   "source": [
    "print(\"Vocabulary size:\", len(bow.vocabulary_))"
   ]
  },
  {
   "cell_type": "markdown",
   "metadata": {},
   "source": [
    "\n",
    "#### **4.1.1. BoW con clasificación Random Forest Classifier**\n"
   ]
  },
  {
   "cell_type": "code",
   "execution_count": 31,
   "metadata": {},
   "outputs": [],
   "source": [
    "bow_model = RandomForestClassifier(random_state=2)"
   ]
  },
  {
   "cell_type": "code",
   "execution_count": 32,
   "metadata": {},
   "outputs": [
    {
     "data": {
      "text/html": [
       "<style>#sk-container-id-1 {\n",
       "  /* Definition of color scheme common for light and dark mode */\n",
       "  --sklearn-color-text: black;\n",
       "  --sklearn-color-line: gray;\n",
       "  /* Definition of color scheme for unfitted estimators */\n",
       "  --sklearn-color-unfitted-level-0: #fff5e6;\n",
       "  --sklearn-color-unfitted-level-1: #f6e4d2;\n",
       "  --sklearn-color-unfitted-level-2: #ffe0b3;\n",
       "  --sklearn-color-unfitted-level-3: chocolate;\n",
       "  /* Definition of color scheme for fitted estimators */\n",
       "  --sklearn-color-fitted-level-0: #f0f8ff;\n",
       "  --sklearn-color-fitted-level-1: #d4ebff;\n",
       "  --sklearn-color-fitted-level-2: #b3dbfd;\n",
       "  --sklearn-color-fitted-level-3: cornflowerblue;\n",
       "\n",
       "  /* Specific color for light theme */\n",
       "  --sklearn-color-text-on-default-background: var(--sg-text-color, var(--theme-code-foreground, var(--jp-content-font-color1, black)));\n",
       "  --sklearn-color-background: var(--sg-background-color, var(--theme-background, var(--jp-layout-color0, white)));\n",
       "  --sklearn-color-border-box: var(--sg-text-color, var(--theme-code-foreground, var(--jp-content-font-color1, black)));\n",
       "  --sklearn-color-icon: #696969;\n",
       "\n",
       "  @media (prefers-color-scheme: dark) {\n",
       "    /* Redefinition of color scheme for dark theme */\n",
       "    --sklearn-color-text-on-default-background: var(--sg-text-color, var(--theme-code-foreground, var(--jp-content-font-color1, white)));\n",
       "    --sklearn-color-background: var(--sg-background-color, var(--theme-background, var(--jp-layout-color0, #111)));\n",
       "    --sklearn-color-border-box: var(--sg-text-color, var(--theme-code-foreground, var(--jp-content-font-color1, white)));\n",
       "    --sklearn-color-icon: #878787;\n",
       "  }\n",
       "}\n",
       "\n",
       "#sk-container-id-1 {\n",
       "  color: var(--sklearn-color-text);\n",
       "}\n",
       "\n",
       "#sk-container-id-1 pre {\n",
       "  padding: 0;\n",
       "}\n",
       "\n",
       "#sk-container-id-1 input.sk-hidden--visually {\n",
       "  border: 0;\n",
       "  clip: rect(1px 1px 1px 1px);\n",
       "  clip: rect(1px, 1px, 1px, 1px);\n",
       "  height: 1px;\n",
       "  margin: -1px;\n",
       "  overflow: hidden;\n",
       "  padding: 0;\n",
       "  position: absolute;\n",
       "  width: 1px;\n",
       "}\n",
       "\n",
       "#sk-container-id-1 div.sk-dashed-wrapped {\n",
       "  border: 1px dashed var(--sklearn-color-line);\n",
       "  margin: 0 0.4em 0.5em 0.4em;\n",
       "  box-sizing: border-box;\n",
       "  padding-bottom: 0.4em;\n",
       "  background-color: var(--sklearn-color-background);\n",
       "}\n",
       "\n",
       "#sk-container-id-1 div.sk-container {\n",
       "  /* jupyter's `normalize.less` sets `[hidden] { display: none; }`\n",
       "     but bootstrap.min.css set `[hidden] { display: none !important; }`\n",
       "     so we also need the `!important` here to be able to override the\n",
       "     default hidden behavior on the sphinx rendered scikit-learn.org.\n",
       "     See: https://github.com/scikit-learn/scikit-learn/issues/21755 */\n",
       "  display: inline-block !important;\n",
       "  position: relative;\n",
       "}\n",
       "\n",
       "#sk-container-id-1 div.sk-text-repr-fallback {\n",
       "  display: none;\n",
       "}\n",
       "\n",
       "div.sk-parallel-item,\n",
       "div.sk-serial,\n",
       "div.sk-item {\n",
       "  /* draw centered vertical line to link estimators */\n",
       "  background-image: linear-gradient(var(--sklearn-color-text-on-default-background), var(--sklearn-color-text-on-default-background));\n",
       "  background-size: 2px 100%;\n",
       "  background-repeat: no-repeat;\n",
       "  background-position: center center;\n",
       "}\n",
       "\n",
       "/* Parallel-specific style estimator block */\n",
       "\n",
       "#sk-container-id-1 div.sk-parallel-item::after {\n",
       "  content: \"\";\n",
       "  width: 100%;\n",
       "  border-bottom: 2px solid var(--sklearn-color-text-on-default-background);\n",
       "  flex-grow: 1;\n",
       "}\n",
       "\n",
       "#sk-container-id-1 div.sk-parallel {\n",
       "  display: flex;\n",
       "  align-items: stretch;\n",
       "  justify-content: center;\n",
       "  background-color: var(--sklearn-color-background);\n",
       "  position: relative;\n",
       "}\n",
       "\n",
       "#sk-container-id-1 div.sk-parallel-item {\n",
       "  display: flex;\n",
       "  flex-direction: column;\n",
       "}\n",
       "\n",
       "#sk-container-id-1 div.sk-parallel-item:first-child::after {\n",
       "  align-self: flex-end;\n",
       "  width: 50%;\n",
       "}\n",
       "\n",
       "#sk-container-id-1 div.sk-parallel-item:last-child::after {\n",
       "  align-self: flex-start;\n",
       "  width: 50%;\n",
       "}\n",
       "\n",
       "#sk-container-id-1 div.sk-parallel-item:only-child::after {\n",
       "  width: 0;\n",
       "}\n",
       "\n",
       "/* Serial-specific style estimator block */\n",
       "\n",
       "#sk-container-id-1 div.sk-serial {\n",
       "  display: flex;\n",
       "  flex-direction: column;\n",
       "  align-items: center;\n",
       "  background-color: var(--sklearn-color-background);\n",
       "  padding-right: 1em;\n",
       "  padding-left: 1em;\n",
       "}\n",
       "\n",
       "\n",
       "/* Toggleable style: style used for estimator/Pipeline/ColumnTransformer box that is\n",
       "clickable and can be expanded/collapsed.\n",
       "- Pipeline and ColumnTransformer use this feature and define the default style\n",
       "- Estimators will overwrite some part of the style using the `sk-estimator` class\n",
       "*/\n",
       "\n",
       "/* Pipeline and ColumnTransformer style (default) */\n",
       "\n",
       "#sk-container-id-1 div.sk-toggleable {\n",
       "  /* Default theme specific background. It is overwritten whether we have a\n",
       "  specific estimator or a Pipeline/ColumnTransformer */\n",
       "  background-color: var(--sklearn-color-background);\n",
       "}\n",
       "\n",
       "/* Toggleable label */\n",
       "#sk-container-id-1 label.sk-toggleable__label {\n",
       "  cursor: pointer;\n",
       "  display: block;\n",
       "  width: 100%;\n",
       "  margin-bottom: 0;\n",
       "  padding: 0.5em;\n",
       "  box-sizing: border-box;\n",
       "  text-align: center;\n",
       "}\n",
       "\n",
       "#sk-container-id-1 label.sk-toggleable__label-arrow:before {\n",
       "  /* Arrow on the left of the label */\n",
       "  content: \"▸\";\n",
       "  float: left;\n",
       "  margin-right: 0.25em;\n",
       "  color: var(--sklearn-color-icon);\n",
       "}\n",
       "\n",
       "#sk-container-id-1 label.sk-toggleable__label-arrow:hover:before {\n",
       "  color: var(--sklearn-color-text);\n",
       "}\n",
       "\n",
       "/* Toggleable content - dropdown */\n",
       "\n",
       "#sk-container-id-1 div.sk-toggleable__content {\n",
       "  max-height: 0;\n",
       "  max-width: 0;\n",
       "  overflow: hidden;\n",
       "  text-align: left;\n",
       "  /* unfitted */\n",
       "  background-color: var(--sklearn-color-unfitted-level-0);\n",
       "}\n",
       "\n",
       "#sk-container-id-1 div.sk-toggleable__content.fitted {\n",
       "  /* fitted */\n",
       "  background-color: var(--sklearn-color-fitted-level-0);\n",
       "}\n",
       "\n",
       "#sk-container-id-1 div.sk-toggleable__content pre {\n",
       "  margin: 0.2em;\n",
       "  border-radius: 0.25em;\n",
       "  color: var(--sklearn-color-text);\n",
       "  /* unfitted */\n",
       "  background-color: var(--sklearn-color-unfitted-level-0);\n",
       "}\n",
       "\n",
       "#sk-container-id-1 div.sk-toggleable__content.fitted pre {\n",
       "  /* unfitted */\n",
       "  background-color: var(--sklearn-color-fitted-level-0);\n",
       "}\n",
       "\n",
       "#sk-container-id-1 input.sk-toggleable__control:checked~div.sk-toggleable__content {\n",
       "  /* Expand drop-down */\n",
       "  max-height: 200px;\n",
       "  max-width: 100%;\n",
       "  overflow: auto;\n",
       "}\n",
       "\n",
       "#sk-container-id-1 input.sk-toggleable__control:checked~label.sk-toggleable__label-arrow:before {\n",
       "  content: \"▾\";\n",
       "}\n",
       "\n",
       "/* Pipeline/ColumnTransformer-specific style */\n",
       "\n",
       "#sk-container-id-1 div.sk-label input.sk-toggleable__control:checked~label.sk-toggleable__label {\n",
       "  color: var(--sklearn-color-text);\n",
       "  background-color: var(--sklearn-color-unfitted-level-2);\n",
       "}\n",
       "\n",
       "#sk-container-id-1 div.sk-label.fitted input.sk-toggleable__control:checked~label.sk-toggleable__label {\n",
       "  background-color: var(--sklearn-color-fitted-level-2);\n",
       "}\n",
       "\n",
       "/* Estimator-specific style */\n",
       "\n",
       "/* Colorize estimator box */\n",
       "#sk-container-id-1 div.sk-estimator input.sk-toggleable__control:checked~label.sk-toggleable__label {\n",
       "  /* unfitted */\n",
       "  background-color: var(--sklearn-color-unfitted-level-2);\n",
       "}\n",
       "\n",
       "#sk-container-id-1 div.sk-estimator.fitted input.sk-toggleable__control:checked~label.sk-toggleable__label {\n",
       "  /* fitted */\n",
       "  background-color: var(--sklearn-color-fitted-level-2);\n",
       "}\n",
       "\n",
       "#sk-container-id-1 div.sk-label label.sk-toggleable__label,\n",
       "#sk-container-id-1 div.sk-label label {\n",
       "  /* The background is the default theme color */\n",
       "  color: var(--sklearn-color-text-on-default-background);\n",
       "}\n",
       "\n",
       "/* On hover, darken the color of the background */\n",
       "#sk-container-id-1 div.sk-label:hover label.sk-toggleable__label {\n",
       "  color: var(--sklearn-color-text);\n",
       "  background-color: var(--sklearn-color-unfitted-level-2);\n",
       "}\n",
       "\n",
       "/* Label box, darken color on hover, fitted */\n",
       "#sk-container-id-1 div.sk-label.fitted:hover label.sk-toggleable__label.fitted {\n",
       "  color: var(--sklearn-color-text);\n",
       "  background-color: var(--sklearn-color-fitted-level-2);\n",
       "}\n",
       "\n",
       "/* Estimator label */\n",
       "\n",
       "#sk-container-id-1 div.sk-label label {\n",
       "  font-family: monospace;\n",
       "  font-weight: bold;\n",
       "  display: inline-block;\n",
       "  line-height: 1.2em;\n",
       "}\n",
       "\n",
       "#sk-container-id-1 div.sk-label-container {\n",
       "  text-align: center;\n",
       "}\n",
       "\n",
       "/* Estimator-specific */\n",
       "#sk-container-id-1 div.sk-estimator {\n",
       "  font-family: monospace;\n",
       "  border: 1px dotted var(--sklearn-color-border-box);\n",
       "  border-radius: 0.25em;\n",
       "  box-sizing: border-box;\n",
       "  margin-bottom: 0.5em;\n",
       "  /* unfitted */\n",
       "  background-color: var(--sklearn-color-unfitted-level-0);\n",
       "}\n",
       "\n",
       "#sk-container-id-1 div.sk-estimator.fitted {\n",
       "  /* fitted */\n",
       "  background-color: var(--sklearn-color-fitted-level-0);\n",
       "}\n",
       "\n",
       "/* on hover */\n",
       "#sk-container-id-1 div.sk-estimator:hover {\n",
       "  /* unfitted */\n",
       "  background-color: var(--sklearn-color-unfitted-level-2);\n",
       "}\n",
       "\n",
       "#sk-container-id-1 div.sk-estimator.fitted:hover {\n",
       "  /* fitted */\n",
       "  background-color: var(--sklearn-color-fitted-level-2);\n",
       "}\n",
       "\n",
       "/* Specification for estimator info (e.g. \"i\" and \"?\") */\n",
       "\n",
       "/* Common style for \"i\" and \"?\" */\n",
       "\n",
       ".sk-estimator-doc-link,\n",
       "a:link.sk-estimator-doc-link,\n",
       "a:visited.sk-estimator-doc-link {\n",
       "  float: right;\n",
       "  font-size: smaller;\n",
       "  line-height: 1em;\n",
       "  font-family: monospace;\n",
       "  background-color: var(--sklearn-color-background);\n",
       "  border-radius: 1em;\n",
       "  height: 1em;\n",
       "  width: 1em;\n",
       "  text-decoration: none !important;\n",
       "  margin-left: 1ex;\n",
       "  /* unfitted */\n",
       "  border: var(--sklearn-color-unfitted-level-1) 1pt solid;\n",
       "  color: var(--sklearn-color-unfitted-level-1);\n",
       "}\n",
       "\n",
       ".sk-estimator-doc-link.fitted,\n",
       "a:link.sk-estimator-doc-link.fitted,\n",
       "a:visited.sk-estimator-doc-link.fitted {\n",
       "  /* fitted */\n",
       "  border: var(--sklearn-color-fitted-level-1) 1pt solid;\n",
       "  color: var(--sklearn-color-fitted-level-1);\n",
       "}\n",
       "\n",
       "/* On hover */\n",
       "div.sk-estimator:hover .sk-estimator-doc-link:hover,\n",
       ".sk-estimator-doc-link:hover,\n",
       "div.sk-label-container:hover .sk-estimator-doc-link:hover,\n",
       ".sk-estimator-doc-link:hover {\n",
       "  /* unfitted */\n",
       "  background-color: var(--sklearn-color-unfitted-level-3);\n",
       "  color: var(--sklearn-color-background);\n",
       "  text-decoration: none;\n",
       "}\n",
       "\n",
       "div.sk-estimator.fitted:hover .sk-estimator-doc-link.fitted:hover,\n",
       ".sk-estimator-doc-link.fitted:hover,\n",
       "div.sk-label-container:hover .sk-estimator-doc-link.fitted:hover,\n",
       ".sk-estimator-doc-link.fitted:hover {\n",
       "  /* fitted */\n",
       "  background-color: var(--sklearn-color-fitted-level-3);\n",
       "  color: var(--sklearn-color-background);\n",
       "  text-decoration: none;\n",
       "}\n",
       "\n",
       "/* Span, style for the box shown on hovering the info icon */\n",
       ".sk-estimator-doc-link span {\n",
       "  display: none;\n",
       "  z-index: 9999;\n",
       "  position: relative;\n",
       "  font-weight: normal;\n",
       "  right: .2ex;\n",
       "  padding: .5ex;\n",
       "  margin: .5ex;\n",
       "  width: min-content;\n",
       "  min-width: 20ex;\n",
       "  max-width: 50ex;\n",
       "  color: var(--sklearn-color-text);\n",
       "  box-shadow: 2pt 2pt 4pt #999;\n",
       "  /* unfitted */\n",
       "  background: var(--sklearn-color-unfitted-level-0);\n",
       "  border: .5pt solid var(--sklearn-color-unfitted-level-3);\n",
       "}\n",
       "\n",
       ".sk-estimator-doc-link.fitted span {\n",
       "  /* fitted */\n",
       "  background: var(--sklearn-color-fitted-level-0);\n",
       "  border: var(--sklearn-color-fitted-level-3);\n",
       "}\n",
       "\n",
       ".sk-estimator-doc-link:hover span {\n",
       "  display: block;\n",
       "}\n",
       "\n",
       "/* \"?\"-specific style due to the `<a>` HTML tag */\n",
       "\n",
       "#sk-container-id-1 a.estimator_doc_link {\n",
       "  float: right;\n",
       "  font-size: 1rem;\n",
       "  line-height: 1em;\n",
       "  font-family: monospace;\n",
       "  background-color: var(--sklearn-color-background);\n",
       "  border-radius: 1rem;\n",
       "  height: 1rem;\n",
       "  width: 1rem;\n",
       "  text-decoration: none;\n",
       "  /* unfitted */\n",
       "  color: var(--sklearn-color-unfitted-level-1);\n",
       "  border: var(--sklearn-color-unfitted-level-1) 1pt solid;\n",
       "}\n",
       "\n",
       "#sk-container-id-1 a.estimator_doc_link.fitted {\n",
       "  /* fitted */\n",
       "  border: var(--sklearn-color-fitted-level-1) 1pt solid;\n",
       "  color: var(--sklearn-color-fitted-level-1);\n",
       "}\n",
       "\n",
       "/* On hover */\n",
       "#sk-container-id-1 a.estimator_doc_link:hover {\n",
       "  /* unfitted */\n",
       "  background-color: var(--sklearn-color-unfitted-level-3);\n",
       "  color: var(--sklearn-color-background);\n",
       "  text-decoration: none;\n",
       "}\n",
       "\n",
       "#sk-container-id-1 a.estimator_doc_link.fitted:hover {\n",
       "  /* fitted */\n",
       "  background-color: var(--sklearn-color-fitted-level-3);\n",
       "}\n",
       "</style><div id=\"sk-container-id-1\" class=\"sk-top-container\"><div class=\"sk-text-repr-fallback\"><pre>RandomForestClassifier(random_state=2)</pre><b>In a Jupyter environment, please rerun this cell to show the HTML representation or trust the notebook. <br />On GitHub, the HTML representation is unable to render, please try loading this page with nbviewer.org.</b></div><div class=\"sk-container\" hidden><div class=\"sk-item\"><div class=\"sk-estimator fitted sk-toggleable\"><input class=\"sk-toggleable__control sk-hidden--visually\" id=\"sk-estimator-id-1\" type=\"checkbox\" checked><label for=\"sk-estimator-id-1\" class=\"sk-toggleable__label fitted sk-toggleable__label-arrow fitted\">&nbsp;&nbsp;RandomForestClassifier<a class=\"sk-estimator-doc-link fitted\" rel=\"noreferrer\" target=\"_blank\" href=\"https://scikit-learn.org/1.4/modules/generated/sklearn.ensemble.RandomForestClassifier.html\">?<span>Documentation for RandomForestClassifier</span></a><span class=\"sk-estimator-doc-link fitted\">i<span>Fitted</span></span></label><div class=\"sk-toggleable__content fitted\"><pre>RandomForestClassifier(random_state=2)</pre></div> </div></div></div></div>"
      ],
      "text/plain": [
       "RandomForestClassifier(random_state=2)"
      ]
     },
     "execution_count": 32,
     "metadata": {},
     "output_type": "execute_result"
    }
   ],
   "source": [
    "bow_model.fit(X_bow, Y_train_BoW)"
   ]
  },
  {
   "cell_type": "code",
   "execution_count": 33,
   "metadata": {},
   "outputs": [
    {
     "data": {
      "text/plain": [
       "<Axes: >"
      ]
     },
     "execution_count": 33,
     "metadata": {},
     "output_type": "execute_result"
    },
    {
     "data": {
      "image/png": "[encoded data removed]",
      "text/plain": [
       "<Figure size 1500x1000 with 1 Axes>"
      ]
     },
     "metadata": {},
     "output_type": "display_data"
    }
   ],
   "source": [
    "# Feature importance in tree models is an indicator on how relevant is a feature for taking the decision by the model\n",
    "pd.Series(bow_model.feature_importances_, index=bow.vocabulary_).sort_values().tail(20).plot.barh(figsize=(15, 10))"
   ]
  },
  {
   "cell_type": "markdown",
   "metadata": {},
   "source": [
    "Se realiza una descripción gráfica de la importancia de las palabras en el modelo de clasificación Random Forest Classifier. Se puede observar que las palabras con mayor importancia son 'objetivo', 'pavimento' y 'sucursales'."
   ]
  },
  {
   "cell_type": "code",
   "execution_count": 34,
   "metadata": {},
   "outputs": [
    {
     "name": "stdout",
     "output_type": "stream",
     "text": [
      "Number of trees: 100\n",
      "Trees depth (mean): 237.97\n"
     ]
    }
   ],
   "source": [
    "bow_estimators = bow_model.estimators_\n",
    "print(\"Number of trees:\", len(bow_estimators))\n",
    "print(\"Trees depth (mean):\", np.mean([tree.get_depth() for tree in bow_estimators]))"
   ]
  },
  {
   "cell_type": "code",
   "execution_count": 35,
   "metadata": {},
   "outputs": [],
   "source": [
    "y_train_bow_predict = bow_model.predict(X_bow)\n",
    "y_test_bow_predict = bow_model.predict(bow.transform(X_test[\"words\"]))"
   ]
  },
  {
   "cell_type": "markdown",
   "metadata": {},
   "source": [
    "#### **Evaluación Cuantitativa**\n"
   ]
  },
  {
   "cell_type": "code",
   "execution_count": 36,
   "metadata": {},
   "outputs": [
    {
     "data": {
      "text/plain": [
       "<sklearn.metrics._plot.confusion_matrix.ConfusionMatrixDisplay at 0x1fa0d59cca0>"
      ]
     },
     "execution_count": 36,
     "metadata": {},
     "output_type": "execute_result"
    },
    {
     "data": {
      "image/png": "[encoded data removed]",
      "text/plain": [
       "<Figure size 640x480 with 2 Axes>"
      ]
     },
     "metadata": {},
     "output_type": "display_data"
    }
   ],
   "source": [
    "ConfusionMatrixDisplay.from_predictions(Y_train_BoW, y_train_bow_predict)"
   ]
  },
  {
   "cell_type": "code",
   "execution_count": 37,
   "metadata": {},
   "outputs": [
    {
     "data": {
      "text/plain": [
       "<sklearn.metrics._plot.confusion_matrix.ConfusionMatrixDisplay at 0x1fa92723730>"
      ]
     },
     "execution_count": 37,
     "metadata": {},
     "output_type": "execute_result"
    },
    {
     "data": {
      "image/png": "[encoded data removed]",
      "text/plain": [
       "<Figure size 640x480 with 2 Axes>"
      ]
     },
     "metadata": {},
     "output_type": "display_data"
    }
   ],
   "source": [
    "ConfusionMatrixDisplay.from_predictions(Y_test_BoW, y_test_bow_predict)"
   ]
  },
  {
   "cell_type": "markdown",
   "metadata": {},
   "source": [
    "Se observan las predicciones realizadas por el modelo para las reseñas de prueba. Hay un margen de error considerable en todos los ratings.\n",
    "\n",
    "Está cometiendo errores significativos en las reseñas con calificación 1, pues las predice en su mayoría como calificación 2. Lo mismo ocurre con las reseñas con calificación 4, pues las predice en su mayoría como calificación 5.\n",
    "\n",
    "El modelo destaca notablemente en la predicción de reseñas con calificación 5."
   ]
  },
  {
   "cell_type": "markdown",
   "metadata": {},
   "source": [
    "__Métricas Conjunto Entrenamiento:__"
   ]
  },
  {
   "cell_type": "markdown",
   "metadata": {},
   "source": [
    "Recordemos que:\n",
    "\n",
    "__Exactitud:__ Proporción de predicciones correctas sobre el total de predicciones realizadas por el modelo.\n",
    "\n",
    "__Recall:__ Proporción de casos positivos que fueron correctamente identificados por el modelo.\n",
    "\n",
    "__Precisión:__ Proporción de casos positivos identificados correctamente por el modelo sobre el total de casos identificados como positivos.\n",
    "\n",
    "__F1:__ Media geométrica entre precisión y recall."
   ]
  },
  {
   "cell_type": "code",
   "execution_count": 38,
   "metadata": {},
   "outputs": [
    {
     "name": "stdout",
     "output_type": "stream",
     "text": [
      "Exactitud sobre Train: 1.00\n",
      "Precision: 1.0\n",
      "Recall: 1.0\n",
      "F1: 1.0\n"
     ]
    }
   ],
   "source": [
    "print('Exactitud sobre Train: %.2f' % accuracy_score(Y_train_BoW, y_train_bow_predict))\n",
    "print(\"Precision:\", precision_score(Y_train_BoW, y_train_bow_predict, average='weighted'))\n",
    "print(\"Recall:\", recall_score(Y_train_BoW, y_train_bow_predict, average='weighted'))\n",
    "print(\"F1:\", f1_score(Y_train_BoW, y_train_bow_predict, average='weighted'))"
   ]
  },
  {
   "cell_type": "markdown",
   "metadata": {},
   "source": [
    "__Métricas Conjunto Test__"
   ]
  },
  {
   "cell_type": "code",
   "execution_count": 39,
   "metadata": {},
   "outputs": [
    {
     "name": "stdout",
     "output_type": "stream",
     "text": [
      "Exactitud sobre Test: 0.46\n",
      "Precision: 0.4519334219462699\n",
      "Recall: 0.4595981188542112\n",
      "F1: 0.4375419966328676\n"
     ]
    }
   ],
   "source": [
    "print('Exactitud sobre Test: %.2f' % accuracy_score(Y_test_BoW, y_test_bow_predict))\n",
    "print(\"Precision:\", precision_score(Y_test_BoW, y_test_bow_predict,average='weighted'))\n",
    "print(\"Recall:\", recall_score(Y_test_BoW, y_test_bow_predict,average='weighted'))\n",
    "print(\"F1:\", f1_score(Y_test_BoW, y_test_bow_predict,average='weighted'))"
   ]
  },
  {
   "cell_type": "markdown",
   "metadata": {},
   "source": [
    "El modelo no es bueno, ya que todas sus métricas son bajas. La exactitud del modelo es de 0.45, por lo que el modelo acierta en el 45% de los casos. "
   ]
  },
  {
   "cell_type": "markdown",
   "metadata": {},
   "source": [
    "\n",
    "#### **4.1.1. BoW con clasificación Regresión Logística**\n"
   ]
  },
  {
   "cell_type": "code",
   "execution_count": 40,
   "metadata": {},
   "outputs": [
    {
     "name": "stdout",
     "output_type": "stream",
     "text": [
      "Exactitud (Regresión Logística):  0.44420692603676787\n",
      "Precision (Regresión Logística: 0.4429821539562746\n",
      "Recall (Regresión Logística: 0.44420692603676787\n",
      "F1 (Regresión Logística: 0.44244700229539174\n"
     ]
    },
    {
     "data": {
      "image/png": "[encoded data removed]",
      "text/plain": [
       "<Figure size 640x480 with 2 Axes>"
      ]
     },
     "metadata": {},
     "output_type": "display_data"
    }
   ],
   "source": [
    "\n",
    "logistic_model = LogisticRegression(random_state=5, max_iter=1000)\n",
    "\n",
    "logistic_model.fit(X_bow, Y_train_BoW)\n",
    "\n",
    "# Realiza predicciones en los datos de prueba\n",
    "y_test_logistic_predict = logistic_model.predict(bow.transform(X_test[\"words\"]))\n",
    "\n",
    "# Calcula las métricas de evaluación\n",
    "exactitud_logistic = accuracy_score(Y_test_BoW, y_test_logistic_predict)\n",
    "precision_logistic = precision_score(Y_test_BoW, y_test_logistic_predict, average='weighted')\n",
    "recall_logistic = recall_score(Y_test_BoW, y_test_logistic_predict, average='weighted')\n",
    "f1_logistic = f1_score(Y_test_BoW, y_test_logistic_predict, average='weighted')\n",
    "\n",
    "ConfusionMatrixDisplay.from_predictions(Y_test_BoW, y_test_logistic_predict)\n",
    "\n",
    "print ('Exactitud (Regresión Logística): ', exactitud_logistic)\n",
    "print(\"Precision (Regresión Logística:\", precision_logistic)\n",
    "print(\"Recall (Regresión Logística:\", recall_logistic)\n",
    "print(\"F1 (Regresión Logística:\", f1_logistic)"
   ]
  },
  {
   "cell_type": "markdown",
   "metadata": {},
   "source": [
    "\n",
    "#### **4.1.1. BoW con clasificación SVM**\n"
   ]
  },
  {
   "cell_type": "code",
   "execution_count": 41,
   "metadata": {},
   "outputs": [
    {
     "name": "stdout",
     "output_type": "stream",
     "text": [
      "Exactitud (SVM):  0.4185549380076956\n",
      "Precision (SVM): 0.4235272007719854\n",
      "Recall (SVM): 0.4185549380076956\n",
      "F1 (SVM): 0.42017975705736493\n"
     ]
    },
    {
     "data": {
      "image/png": "[encoded data removed]",
      "text/plain": [
       "<Figure size 640x480 with 2 Axes>"
      ]
     },
     "metadata": {},
     "output_type": "display_data"
    }
   ],
   "source": [
    "# Crea un modelo de Support Vector Machine (SVM)\n",
    "svm_model = SVC(kernel='linear', random_state=5)\n",
    "\n",
    "svm_model.fit(X_bow, Y_train_BoW)\n",
    "\n",
    "# Realiza predicciones en los datos de prueba\n",
    "y_test_svm_predict = svm_model.predict(bow.transform(X_test[\"words\"]))\n",
    "\n",
    "# Calcula las métricas de evaluación\n",
    "exactitud_svm = accuracy_score(Y_test_BoW, y_test_svm_predict)\n",
    "precision_svm = precision_score(Y_test_BoW, y_test_svm_predict, average='weighted')\n",
    "recall_svm = recall_score(Y_test_BoW, y_test_svm_predict, average='weighted')\n",
    "f1_svm = f1_score(Y_test_BoW, y_test_svm_predict, average='weighted')\n",
    "\n",
    "ConfusionMatrixDisplay.from_predictions(Y_test_BoW, y_test_svm_predict)\n",
    "\n",
    "print ('Exactitud (SVM): ', exactitud_svm)\n",
    "print(\"Precision (SVM):\", precision_svm)\n",
    "print(\"Recall (SVM):\", recall_svm)\n",
    "print(\"F1 (SVM):\", f1_svm)"
   ]
  },
  {
   "cell_type": "markdown",
   "metadata": {},
   "source": [
    "#### 4.3 Modelos con Vectorizacion Doc2Vec "
   ]
  },
  {
   "cell_type": "code",
   "execution_count": 42,
   "metadata": {},
   "outputs": [],
   "source": [
    "X_train_d2v, X_test_d2v, y_train_d2v, y_test_d2v = X_train, X_test, y_train, y_test"
   ]
  },
  {
   "cell_type": "code",
   "execution_count": 43,
   "metadata": {},
   "outputs": [],
   "source": [
    "from gensim.models.doc2vec import Doc2Vec, TaggedDocument\n",
    "def tokenize_and_tag(texts):\n",
    "    tagged_data = []\n",
    "    for i, text in enumerate(texts):\n",
    "        words = word_tokenize(text)\n",
    "        tags = [i]\n",
    "        tagged_data.append(TaggedDocument(words=words, tags=tags))\n",
    "    return tagged_data\n",
    "\n",
    "# Tokeniza y etiqueta los textos de entrenamiento y prueba\n",
    "tagged_data_train = tokenize_and_tag(X_train[\"words\"])\n",
    "tagged_data_test = tokenize_and_tag(X_test[\"words\"])\n",
    "# Crea un modelo Doc2Vec\n",
    "doc2vec_model = Doc2Vec(vector_size=100, window=5, min_count=1, workers=4, epochs=20)\n",
    "\n",
    "# Construye el vocabulario\n",
    "doc2vec_model.build_vocab(tagged_data_train)\n",
    "\n",
    "# Entrena el modelo Doc2Vec\n",
    "doc2vec_model.train(tagged_data_train, total_examples=doc2vec_model.corpus_count, epochs=doc2vec_model.epochs)\n",
    "# Vectoriza los textos de entrenamiento y prue ba\n",
    "X_train_d2v['doc2vec_features'] = [doc2vec_model.infer_vector(doc.words) for doc in tagged_data_train]\n",
    "X_test_d2v['doc2vec_features'] = [doc2vec_model.infer_vector(doc.words) for doc in tagged_data_test]"
   ]
  },
  {
   "cell_type": "markdown",
   "metadata": {},
   "source": [
    "##### 4.3.1 Clasificacion Random Forest Classifier"
   ]
  },
  {
   "cell_type": "code",
   "execution_count": 44,
   "metadata": {},
   "outputs": [],
   "source": [
    "# Modelo con Doc2Vec\n",
    "doc2vec_model = RandomForestClassifier(random_state=5)\n",
    "doc2vec_model.fit(list(X_train_d2v['doc2vec_features']), y_train_d2v)\n",
    "y_train_doc2vec_predict = doc2vec_model.predict(list(X_train_d2v['doc2vec_features']))\n",
    "y_test_doc2vec_predict = doc2vec_model.predict(list(X_test_d2v['doc2vec_features']))\n"
   ]
  },
  {
   "cell_type": "code",
   "execution_count": 45,
   "metadata": {},
   "outputs": [
    {
     "name": "stdout",
     "output_type": "stream",
     "text": [
      "Precision: 0.41911185952615526\n",
      "Recall: 0.4241128687473279\n",
      "F1: 0.4123713779817136\n"
     ]
    },
    {
     "data": {
      "image/png": "[encoded data removed]",
      "text/plain": [
       "<Figure size 640x480 with 2 Axes>"
      ]
     },
     "metadata": {},
     "output_type": "display_data"
    }
   ],
   "source": [
    "from sklearn.metrics import ConfusionMatrixDisplay\n",
    "ConfusionMatrixDisplay.from_predictions(y_test, y_test_doc2vec_predict)\n",
    "from sklearn.metrics import precision_score,recall_score,f1_score\n",
    "precision_doc2vec = precision_score(y_test, y_test_doc2vec_predict, average='weighted')\n",
    "recall_doc2vec = recall_score(y_test, y_test_doc2vec_predict, average='weighted')\n",
    "f1_doc2vec = f1_score(y_test, y_test_doc2vec_predict, average='weighted')\n",
    "\n",
    "print(\"Precision:\", precision_doc2vec)\n",
    "print(\"Recall:\", recall_doc2vec)\n",
    "print(\"F1:\", f1_doc2vec)"
   ]
  },
  {
   "cell_type": "markdown",
   "metadata": {},
   "source": [
    "##### 4.3.2 Doc2Vec Regresion Logisitca"
   ]
  },
  {
   "cell_type": "code",
   "execution_count": 46,
   "metadata": {},
   "outputs": [
    {
     "name": "stdout",
     "output_type": "stream",
     "text": [
      "Precision: 0.4399760871657558\n",
      "Recall: 0.4514749893116717\n",
      "F1: 0.44001945716968666\n"
     ]
    }
   ],
   "source": [
    "from sklearn.linear_model import LogisticRegression\n",
    "# Crea un modelo de Regresión Logística\n",
    "logistic_model = LogisticRegression(random_state=5, max_iter=1000)\n",
    "\n",
    "# Entrena el modelo con los vectores de características generados por Doc2Vec\n",
    "logistic_model.fit(list(X_train_d2v['doc2vec_features']), y_train)\n",
    "\n",
    "# Realiza predicciones en los datos de prueba\n",
    "y_test_logistic_predict = logistic_model.predict(list(X_test_d2v['doc2vec_features']))\n",
    "\n",
    "# Calcula las métricas de evaluación\n",
    "precision_logistic = precision_score(y_test, y_test_logistic_predict, average='weighted')\n",
    "recall_logistic = recall_score(y_test, y_test_logistic_predict, average='weighted')\n",
    "f1_logistic = f1_score(y_test, y_test_logistic_predict, average='weighted')\n",
    "\n",
    "print(\"Precision:\", precision_logistic)\n",
    "print(\"Recall:\", recall_logistic)\n",
    "print(\"F1:\", f1_logistic)"
   ]
  },
  {
   "cell_type": "markdown",
   "metadata": {},
   "source": [
    "##### 4.3.3 Doc2Vec SVM"
   ]
  },
  {
   "cell_type": "code",
   "execution_count": 47,
   "metadata": {},
   "outputs": [
    {
     "name": "stdout",
     "output_type": "stream",
     "text": [
      "Precision (SVM): 0.43559104317312247\n",
      "Recall (SVM): 0.4467721248396751\n",
      "F1 (SVM): 0.436304413913398\n"
     ]
    }
   ],
   "source": [
    "# Crea un modelo de Support Vector Machine (SVM)\n",
    "svm_model = SVC(kernel='linear', random_state=5)\n",
    "\n",
    "# Entrena el modelo con los vectores de características generados por Doc2Vec\n",
    "svm_model.fit(list(X_train_d2v['doc2vec_features']), y_train)\n",
    "\n",
    "# Realiza predicciones en los datos de prueba\n",
    "y_test_svm_predict = svm_model.predict(list(X_test_d2v['doc2vec_features']))\n",
    "\n",
    "# Calcula las métricas de evaluación\n",
    "precision_svm = precision_score(y_test, y_test_svm_predict, average='weighted')\n",
    "recall_svm = recall_score(y_test, y_test_svm_predict, average='weighted')\n",
    "f1_svm = f1_score(y_test, y_test_svm_predict, average='weighted')\n",
    "\n",
    "print(\"Precision (SVM):\", precision_svm)\n",
    "print(\"Recall (SVM):\", recall_svm)\n",
    "print(\"F1 (SVM):\", f1_svm)"
   ]
  }
 ],
 "metadata": {
  "kernelspec": {
   "display_name": "Python 3",
   "language": "python",
   "name": "python3"
  },
  "language_info": {
   "codemirror_mode": {
    "name": "ipython",
    "version": 3
   },
   "file_extension": ".py",
   "mimetype": "text/x-python",
   "name": "python",
   "nbconvert_exporter": "python",
   "pygments_lexer": "ipython3",
   "version": "3.10.4"
  }
 },
 "nbformat": 4,
 "nbformat_minor": 2
}
